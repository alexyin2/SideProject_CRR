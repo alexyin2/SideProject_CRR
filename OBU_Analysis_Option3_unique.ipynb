{
 "cells": [
  {
   "cell_type": "markdown",
   "metadata": {},
   "source": [
    "#### Customer Analysis\n",
    "##### column name and dataframe name has been de-identification."
   ]
  },
  {
   "cell_type": "code",
   "execution_count": 1,
   "metadata": {},
   "outputs": [],
   "source": [
    "import os.path\n",
    "import pandas as pd\n",
    "import numpy as np\n",
    "import copy\n",
    "from datetime import date\n",
    "\n",
    "from sklearn.model_selection import train_test_split\n",
    "from sklearn.linear_model import Lasso, LogisticRegression\n",
    "from sklearn.feature_selection import SelectFromModel\n",
    "from sklearn import metrics\n",
    "import seaborn as sn\n",
    "import matplotlib.pyplot as plt\n",
    "import matplotlib.ticker as mtick\n",
    "import scipy.stats\n",
    "%matplotlib inline\n",
    "from sklearn.preprocessing import OrdinalEncoder\n",
    "from sklearn.preprocessing import LabelEncoder\n",
    "from sklearn.model_selection import ShuffleSplit\n",
    "from sklearn.neighbors import KNeighborsClassifier\n",
    "from sklearn.metrics import roc_auc_score\n",
    "from sklearn.metrics import precision_recall_curve #P-R Curve\n",
    "from sklearn import metrics\n",
    "from sklearn.model_selection import GridSearchCV #Hyperparameters\n",
    "\n",
    "from sklearn.model_selection import cross_val_score\n",
    "from sklearn.model_selection import StratifiedKFold"
   ]
  },
  {
   "cell_type": "code",
   "execution_count": null,
   "metadata": {},
   "outputs": [],
   "source": [
    "DW_AMLALERT = pd.read_csv(r\"/home/user/ALERT.csv\", header=None, dtype=str)\n",
    "DW_AMLALERT.columns = ['ALERT_ID', 'CUST_KEY', 'CUST_ID', 'CUST_DUP_NO', 'ALERT_DATE', 'ALERT_LEVEL', 'ALERT_SN']\n",
    "\n",
    "OBU = pd.read_csv(r\"/home/user/OBU.csv\", dtype=str)"
   ]
  },
  {
   "cell_type": "code",
   "execution_count": null,
   "metadata": {},
   "outputs": [],
   "source": [
    "# DW_AMLALERT 與主table merge的時候改成計算ALERT的次數\n",
    "# DW_AMLALERT have to be pre-processed, otherwise the join would fail\n",
    "\n",
    "# Add a new column: ALERT_MONTH\n",
    "DW_AMLALERT[\"ALERT_DATE\"] = pd.to_datetime(DW_AMLALERT[\"ALERT_DATE\"])\n",
    "\n",
    "DW_AMLALERT['CUST_DUP_NO'] = DW_AMLALERT['CUST_DUP_NO'].astype(object)"
   ]
  },
  {
   "cell_type": "code",
   "execution_count": null,
   "metadata": {},
   "outputs": [],
   "source": [
    "# JOIN OBU & AMLALERT\n",
    "OBU['CYC_MN'] = pd.to_datetime(OBU['CYC_MN'])\n",
    "temp = pd.merge(DW_AMLALERT, OBU, on=['CUST_ID', 'CUST_DUP_NO'], how='inner')\n",
    "temp = temp[['CUST_ID', 'CUST_DUP_NO', 'ALERT_DATE']]\n",
    "temp.drop_duplicates(subset=['CUST_ID', 'CUST_DUP_NO'], keep='first', inplace=True)\n",
    "# Count each CYC_MN 之前有發生幾次ALERT\n",
    "\n",
    "OBU['ALERT_COUNT'] = 0\n",
    "for i, j in zip(temp['CUST_ID'], temp['CUST_DUP_NO']):\n",
    "    # Calculate Unique Months\n",
    "    dates = OBU[(OBU['CUST_ID'] == i) & (OBU['CUST_DUP_NO'] == j)]['CYC_MN'].unique()\n",
    "    OBU_temp = OBU[(OBU['CUST_ID'] == i) & (OBU['CUST_DUP_NO'] == j)][['CUST_ID', 'CUST_DUP_NO', 'CYC_MN']]\n",
    "    DW_AMLALERT_temp = DW_AMLALERT[(DW_AMLALERT['CUST_ID'] == i) & (DW_AMLALERT['CUST_DUP_NO'] == j)]\n",
    "    alert_counts = []\n",
    "    \n",
    "    for date in dates:\n",
    "        if len(DW_AMLALERT_temp[DW_AMLALERT_temp['ALERT_DATE'] < date]) >0:\n",
    "            alert_count = len(DW_AMLALERT_temp[DW_AMLALERT_temp['ALERT_DATE'] < date].drop_duplicates(subset=['ALERT_SN'], keep='first'))\n",
    "            OBU.loc[(OBU['CUST_ID'] == i) & (OBU['CUST_DUP_NO'] == j) & (OBU['CYC_MN'] == date), 'ALERT_COUNT'] = alert_count\n",
    "        else:\n",
    "            continue\n"
   ]
  },
  {
   "cell_type": "code",
   "execution_count": null,
   "metadata": {},
   "outputs": [],
   "source": [
    "# SAR: 非 Y即 N\n",
    "OBU['SAR'] = np.where(OBU['SAR'] == 'Y', 'Y', 'N')"
   ]
  },
  {
   "cell_type": "markdown",
   "metadata": {},
   "source": [
    "#### Remove Non Changing Data"
   ]
  },
  {
   "cell_type": "code",
   "execution_count": 10,
   "metadata": {},
   "outputs": [],
   "source": [
    "use_cols = ['CUST_ID', 'CUST_DUP_NO'] + ['SAR']\n",
    "OBU = OBU.sort_values('CYC_MN', ascending=False).drop_duplicates(subset=use_cols, keep='first')\n",
    "OBU.reset_index(inplace=True)"
   ]
  },
  {
   "cell_type": "code",
   "execution_count": 11,
   "metadata": {},
   "outputs": [
    {
     "data": {
      "text/plain": [
       "2020-08-01    15380\n",
       "2019-09-01       79\n",
       "2019-11-01       72\n",
       "2019-10-01       71\n",
       "2020-02-01       64\n",
       "2020-03-01       53\n",
       "2020-07-01       52\n",
       "2020-01-01       48\n",
       "2020-06-01       47\n",
       "2019-12-01       45\n",
       "2020-05-01       44\n",
       "2020-04-01       40\n",
       "Name: CYC_MN, dtype: int64"
      ]
     },
     "execution_count": 11,
     "metadata": {},
     "output_type": "execute_result"
    }
   ],
   "source": [
    "OBU['CYC_MN'].value_counts(dropna=False)"
   ]
  },
  {
   "cell_type": "markdown",
   "metadata": {},
   "source": [
    "#### Data Transformation\n",
    "##### 1. Categorical\n",
    "##### 1.1 Original Categorical"
   ]
  },
  {
   "cell_type": "code",
   "execution_count": 10,
   "metadata": {},
   "outputs": [],
   "source": [
    "# 需先經過轉換的變數\n",
    "# 1. CMFCUS1_AML_BUSINESS\n",
    "def apply_CMFCUS1_AML_BUSINESS(series):\n",
    "    input = series['CMFCUS1_AML_BUSINESS']\n",
    "    if (input in ['01', '02', '03', '04', '05', '06', '07', '08']):\n",
    "        return 'Y'\n",
    "    else:\n",
    "        return 'N'\n",
    "\n",
    "OBU['CMFCUS1_AML_BUSINESS'] = OBU.apply(apply_CMFCUS1_AML_BUSINESS, axis=1)\n",
    "\n",
    "\n",
    "for i in ['DP_FG', 'LN_FG', 'IX_FG', 'BD_FG', 'FD_FG', 'WM_FG', 'TR_FG', 'EB_FG', 'CD_FG', 'OT_FG']:\n",
    "    OBU[i] = np.where(OBU[i] == 'V', 'Y', 'N')\n",
    "\n",
    "    \n",
    "\n",
    "# 2. CMFCUS25_AE_TYPE\n",
    "# Turn Na into 'N'; other into 'Y'\n",
    "OBU['CMFCUS25_AE_TYPE'] = np.where((OBU[\"CMFCUS25_AE_TYPE\"].isin(['1', '2', '3', '4', '5', '6', '7'])), 'Y', 'N')\n",
    "\n",
    "\n",
    "\n",
    "\n",
    "# 全部Categorical變數\n",
    "# 非 Y or N 即 N\n",
    "\n",
    "X_Categorical = ['CMFCUS1_VIP_CODE', 'CMFCUS1_BUSINESS_FLAG', 'CMFCUS1_NOTAX_FLAG', 'CMFCUS1_FINANCIAL_ACT', \n",
    "                 'CMFCUS1_AML_BUSINESS', 'DP_FG', 'LN_FG', 'IX_FG', 'BD_FG', 'FD_FG', 'WM_FG', 'TR_FG', 'EB_FG', \n",
    "                 'CD_FG', 'OT_FG', 'TRUST_YN', 'CONFIRM_YN', 'COMPLEX_CS_FG', 'AUTHORIZED', 'BEARER_SHARE', \n",
    "                 'ISSUE_BEARER', 'SOLE_CORP', 'TRUST_HOLDER', 'CUST_PANA', 'CUST_THIRD', 'CUST_ADVRS', \n",
    "                 'CUST_BAHA', 'CUST_PARA', 'CMFCUS25_AE_TYPE', 'CMFCUS25_FOREIGN_COMPANY', 'CMFCUS25_FOREIGN_ENTITY', \n",
    "                 'CMFCUS25_CERTI_FLAG', 'CMFCUS25_TAXFREE_FLAG', 'CMFCUS25_CREATIVE_FLAG', 'CMFCUS25_OSU_FLAG', \n",
    "                 'CMFCUS25_PUBLIC_CMPY']\n",
    "\n",
    "for x in X_Categorical:\n",
    "    OBU[x] = np.where(~OBU[x].isin(['Y', 'N']), 'N', OBU[x])"
   ]
  },
  {
   "cell_type": "markdown",
   "metadata": {},
   "source": [
    "##### 1.2 Numeric to Categorical"
   ]
  },
  {
   "cell_type": "code",
   "execution_count": 11,
   "metadata": {},
   "outputs": [],
   "source": [
    "# 需先經過轉換的變數\n",
    "# 1. PEP_COUNT\n",
    "test = OBU[(OBU['PEP_1'] == 'Y') | (OBU['PEP_2'] == 'Y') | (OBU['PEP_3'] == 'Y') | (OBU['PEP_4'] == 'Y')][['PEP_1', 'PEP_2', 'PEP_3', 'PEP_4']]\n",
    "test2 = test.apply(pd.Series.value_counts, axis=1).fillna(0)\n",
    "OBU['PEP_COUNT'] = 0\n",
    "OBU.loc[test2.index, 'PEP_COUNT'] = test2['Y']\n",
    "\n",
    "# 2. REL_ADVERS_COUNT\n",
    "test = OBU[(OBU['REL_ADVRS_1'] == 'Y') | (OBU['REL_ADVRS_2'] == 'Y') | (OBU['REL_ADVRS_3'] == 'Y') | (OBU['REL_ADVRS_4'] == 'Y') | (OBU['REL_ADVRS_5'] == 'Y') | \n",
    "          (OBU['REL_ADVRS_6'] == 'Y') | (OBU['REL_ADVRS_7'] == 'Y') | (OBU['REL_ADVRS_8'] == 'Y') | (OBU['REL_ADVRS_9'] == 'Y') | (OBU['REL_ADVRS_10'] == 'Y') |\n",
    "          (OBU['REL_ADVRS_11'] == 'Y') | (OBU['REL_ADVRS_12'] == 'Y') | (OBU['REL_ADVRS_13'] == 'Y') | (OBU['REL_ADVRS_14'] == 'Y') | (OBU['REL_ADVRS_15'] == 'Y') | \n",
    "          (OBU['REL_ADVRS_16'] == 'Y') | (OBU['REL_ADVRS_17'] == 'Y') | (OBU['REL_ADVRS_18'] == 'Y') | (OBU['REL_ADVRS_19'] == 'Y') | (OBU['REL_ADVRS_20'] == 'Y')\n",
    "          ][['REL_ADVRS_1', 'REL_ADVRS_2', 'REL_ADVRS_3', 'REL_ADVRS_4', 'REL_ADVRS_5', 'REL_ADVRS_6', 'REL_ADVRS_7', 'REL_ADVRS_8', \n",
    "            'REL_ADVRS_9', 'REL_ADVRS_10', 'REL_ADVRS_11', 'REL_ADVRS_12', 'REL_ADVRS_13', 'REL_ADVRS_14', 'REL_ADVRS_15', 'REL_ADVRS_16', \n",
    "            'REL_ADVRS_17', 'REL_ADVRS_18', 'REL_ADVRS_19', 'REL_ADVRS_20']] \n",
    "test2 = test.apply(pd.Series.value_counts, axis=1).fillna(0)\n",
    "OBU['REL_ADVERS_COUNT'] = 0\n",
    "OBU.loc[test2.index, 'REL_ADVERS_COUNT'] = test2['Y']\n",
    "\n",
    "# 3. REL_PEPS_COUNT\n",
    "test = OBU[(OBU['REL_PEPS_1'] == 'Y') | (OBU['REL_PEPS_2'] == 'Y') | (OBU['REL_PEPS_3'] == 'Y') | (OBU['REL_PEPS_4'] == 'Y') | (OBU['REL_PEPS_5'] == 'Y') | \n",
    "          (OBU['REL_PEPS_6'] == 'Y') | (OBU['REL_PEPS_7'] == 'Y') | (OBU['REL_PEPS_8'] == 'Y') | (OBU['REL_PEPS_9'] == 'Y') | (OBU['REL_PEPS_10'] == 'Y') |\n",
    "          (OBU['REL_PEPS_11'] == 'Y') | (OBU['REL_PEPS_12'] == 'Y') | (OBU['REL_PEPS_13'] == 'Y') | (OBU['REL_PEPS_14'] == 'Y') | (OBU['REL_PEPS_15'] == 'Y') | \n",
    "          (OBU['REL_PEPS_16'] == 'Y') | (OBU['REL_PEPS_17'] == 'Y') | (OBU['REL_PEPS_18'] == 'Y') | (OBU['REL_PEPS_19'] == 'Y') | (OBU['REL_PEPS_20'] == 'Y')\n",
    "          ][['REL_PEPS_1', 'REL_PEPS_2', 'REL_PEPS_3', 'REL_PEPS_4', 'REL_PEPS_5', 'REL_PEPS_6', 'REL_PEPS_7', 'REL_PEPS_8', \n",
    "            'REL_PEPS_9', 'REL_PEPS_10', 'REL_PEPS_11', 'REL_PEPS_12', 'REL_PEPS_13', 'REL_PEPS_14', 'REL_PEPS_15', 'REL_PEPS_16', \n",
    "            'REL_PEPS_17', 'REL_PEPS_18', 'REL_PEPS_19', 'REL_PEPS_20']] \n",
    "test2 = test.apply(pd.Series.value_counts, axis=1).fillna(0)\n",
    "OBU['REL_PEPS_COUNT'] = 0\n",
    "OBU.loc[test2.index, 'REL_PEPS_COUNT'] = test2['Y']\n",
    "\n",
    "X_Numeric = ['CMFCUS1_ADR_CNT', 'CMFCUS1_MPHONE_CNT', 'CMFCUS1_OPHONE_CNT', \n",
    "             'PEP_COUNT', 'REL_ADVERS_COUNT', 'REL_PEPS_COUNT']\n",
    "\n",
    "# 全部 Numeric 變數\n",
    "# 非 數字 即 0\n",
    "X_Numeric = ['CMFCUS1_ADR_CNT', 'CMFCUS1_MPHONE_CNT', 'CMFCUS1_OPHONE_CNT', \n",
    "             'PEP_COUNT', 'REL_ADVERS_COUNT', 'REL_PEPS_COUNT']\n",
    "\n",
    "for col in X_Numeric:\n",
    "    OBU[col] = OBU[col].fillna(0)\n",
    "    \n",
    "\n",
    "# Transform Numeric into Categorical\n",
    "\n",
    "# 1.CMFCUS1_ADR_CNT; Threshold: 2\n",
    "OBU['CMFCUS1_ADR_CNT'] = OBU['CMFCUS1_ADR_CNT'].astype(int)\n",
    "# Create new column\n",
    "OBU['CMFCUS1_ADR_CNT_THR_2'] = np.where(OBU['CMFCUS1_ADR_CNT'] >= 2, 'Y', 'N')\n",
    "\n",
    "# 2. CMFCUS1_MPHONE_CNT; \n",
    "OBU['CMFCUS1_MPHONE_CNT'] = OBU['CMFCUS1_MPHONE_CNT'].astype(int)\n",
    "# Create new column\n",
    "OBU['CMFCUS1_MPHONE_CNT_THR_2'] = np.where(OBU['CMFCUS1_MPHONE_CNT'] >= 2, 'Y', 'N')\n",
    "\n",
    "# 3. CMFCUS1_OPHONE_CNT\n",
    "OBU['CMFCUS1_OPHONE_CNT'] = OBU['CMFCUS1_OPHONE_CNT'].astype(int)\n",
    "# Create new column\n",
    "OBU['CMFCUS1_OPHONE_CNT_THR_2'] = np.where(OBU['CMFCUS1_OPHONE_CNT'] >= 2, 'Y', 'N')\n",
    "\n",
    "# 4. PEP_COUNT\n",
    "# Create new column\n",
    "OBU['PEP_COUNT_THR_1'] = np.where(OBU['PEP_COUNT'] >=1, 'Y', 'N')\n",
    "\n",
    "# 5. REL_ADVERS_COUNT\n",
    "# Create new column\n",
    "OBU['REL_ADVERS_COUNT_THR_1'] = np.where(OBU['REL_ADVERS_COUNT'] >=1, 'Y', 'N')\n",
    "\n",
    "# 6. REL_PEPS_COUNT\n",
    "# Create new column\n",
    "OBU['REL_PEPS_COUNT_THR_1'] = np.where(OBU['REL_PEPS_COUNT'] >=1, 'Y', 'N')\n",
    "\n",
    "\n",
    "X_Categorical = X_Categorical + ['CMFCUS1_ADR_CNT_THR_2', 'CMFCUS1_MPHONE_CNT_THR_2', 'CMFCUS1_OPHONE_CNT_THR_2', \n",
    "                                 'PEP_COUNT_THR_1', 'REL_ADVERS_COUNT_THR_1', 'REL_PEPS_COUNT_THR_1']\n",
    "\n",
    "# Turn 'Y', 'N' into 1, 0\n",
    "for col in X_Categorical:\n",
    "    OBU[col] = LabelEncoder().fit_transform(OBU[col])"
   ]
  },
  {
   "cell_type": "markdown",
   "metadata": {},
   "source": [
    "##### 2. Ordinal"
   ]
  },
  {
   "cell_type": "code",
   "execution_count": 12,
   "metadata": {},
   "outputs": [],
   "source": [
    "# 需先經過轉換的變數\n",
    "# Remember that changing NA value into the lowest ranking in ordinal variables might cause issue and affect the model performation\n",
    "# It should be adjusted to dummy variables in the second proposal.\n",
    "\n",
    "# 1. CMFCUS1_BUSINESS_CODE\n",
    "BUSINESS_CODE_TABLE = pd.read_csv(r\"/home/user/BUSINESS_CODE_TABLE.csv\", dtype=str) #行業編號對照風險等級表\n",
    "\n",
    "# Create dictionary\n",
    "BUSINESS_CODE_dict = {'L': BUSINESS_CODE_TABLE[BUSINESS_CODE_TABLE['RISK']=='L']['CODE'].tolist(),\n",
    "                      'M': BUSINESS_CODE_TABLE[BUSINESS_CODE_TABLE['RISK']=='M']['CODE'].tolist(),\n",
    "                      'H': BUSINESS_CODE_TABLE[BUSINESS_CODE_TABLE['RISK']=='H']['CODE'].tolist()}\n",
    "# Inverse dictionary\n",
    "BUSINESS_CODE_dict = {c: r for r, code in BUSINESS_CODE_dict.items() for c in code}\n",
    "\n",
    "OBU['CMFCUS1_BUSINESS_CODE'].replace(BUSINESS_CODE_dict, inplace=True)\n",
    "# Nan轉為L\n",
    "OBU['CMFCUS1_BUSINESS_CODE'] = np.where(~OBU[\"CMFCUS1_BUSINESS_CODE\"].isin(['H', 'M', 'L']), 'L', OBU['CMFCUS1_BUSINESS_CODE'])\n",
    "\n",
    "\n",
    "# 2. LOCATION_CD & HEAD_OFFICE_CD \n",
    "# Create a new column: Nation_Risk to select the higher one between the two columns\n",
    "NationRisk_Table = pd.read_excel(r\"/home/user/NationRisk_Table.xlsx\", dtype=str)\n",
    "\n",
    "NationRisk_dict = {'1':NationRisk_Table[NationRisk_Table['洗錢風險評等']=='L']['國家代碼'].tolist(),\n",
    "                   '2': NationRisk_Table[NationRisk_Table['洗錢風險評等']=='ML']['國家代碼'].tolist(),\n",
    "                   '3': NationRisk_Table[NationRisk_Table['洗錢風險評等']=='M']['國家代碼'].tolist(),\n",
    "                   '4': NationRisk_Table[NationRisk_Table['洗錢風險評等']=='MH']['國家代碼'].tolist(),\n",
    "                   '5': NationRisk_Table[NationRisk_Table['洗錢風險評等']=='H']['國家代碼'].tolist()}\n",
    "\n",
    "# Inverse dictionary\n",
    "NationRisk_dict = {c: r for r, code in NationRisk_dict.items() for c in code}\n",
    "\n",
    "OBU['LOCATION_CD'].replace(NationRisk_dict, inplace=True)\n",
    "OBU['HEAD_OFFICE_CD'].replace(NationRisk_dict, inplace=True)\n",
    "# Nan or no matching 轉為H\n",
    "OBU['LOCATION_CD'] = np.where(~OBU['LOCATION_CD'].isin(['1', '2', '3', '4', '5']), '5', OBU['LOCATION_CD'])\n",
    "OBU['HEAD_OFFICE_CD'] = np.where(~OBU['HEAD_OFFICE_CD'].isin(['1', '2', '3', '4', '5']), '5', OBU['HEAD_OFFICE_CD'])\n",
    "\n",
    "OBU['NATION_RISK'] = OBU[['LOCATION_CD', 'HEAD_OFFICE_CD']].max(axis=1).astype(int).astype(str)\n",
    "\n",
    "\n",
    "# 3. AMT_RANGE\n",
    "# Nan 轉為0\n",
    "OBU['AMT_RANGE'] = np.where(~OBU[\"AMT_RANGE\"].isin(['1', '2', '3']), '0', OBU['AMT_RANGE'])\n",
    "\n",
    "# 4. OBU_ANNUAL_INCOME\n",
    "# Nan 轉為0\n",
    "OBU['OBU_ANNUAL_INCOME'] = np.where(~OBU[\"OBU_ANNUAL_INCOME\"].isin(['1', '2', '3']), '0', OBU['OBU_ANNUAL_INCOME'])\n",
    "\n",
    "# 5. L, M, H to number 1, 2, 3\n",
    "def risk_to_number(series):\n",
    "    input = series\n",
    "    if input == 'H':\n",
    "        return '3'\n",
    "    elif input == 'M':\n",
    "        return '2'\n",
    "    else:\n",
    "        return '1'\n",
    "\n",
    "for i in ['CMFCUS1_BUSINESS_CODE', 'JOB_RISK']:\n",
    "    OBU[i] = OBU[i].apply(risk_to_number)\n",
    "\n",
    "# 5. CMFCUS25_SP_RATING\n",
    "OBU['CMFCUS25_SP_RATING'] = OBU['CMFCUS25_SP_RATING'].map({np.nan: 1, 'D': 2, 'SD': 3, 'R': 4, 'CCC-': 5, 'CCC': 6, \n",
    "                                                           'CCC+': 7, 'B-': 8, 'B': 9, 'B+': 10, 'BB-': 11, 'BB': 12, \n",
    "                                                           'BB+': 13, 'BBB-': 14, 'BBB': 15, 'BBB+': 16, 'A-': 17, \n",
    "                                                           'A': 18, 'A+': 19, 'AA-': 20, 'AA': 21, 'AA+': 22, 'AAA': 23})\n",
    "    \n",
    "# 6. CMFCUS25_MOODYS_RATING\n",
    "# Moody's has assigned (P)A1 ratings to the 1 billion preferred securities shelf registration of five Travelers Capital trusts\n",
    "# Here I'll take it as the same level with A1\n",
    "OBU['CMFCUS25_MOODYS_RATING'] = np.where(OBU['CMFCUS25_MOODYS_RATING'] == '(P)A1', 'A1', OBU['CMFCUS25_MOODYS_RATING'])\n",
    "\n",
    "OBU['CMFCUS25_MOODYS_RATING'] = np.where(OBU['CMFCUS25_MOODYS_RATING'] == 'A3-', 'A3', OBU['CMFCUS25_MOODYS_RATING']) #Fix typo\n",
    "\n",
    "OBU['CMFCUS25_MOODYS_RATING'] = OBU['CMFCUS25_MOODYS_RATING'].map({np.nan: 1, 'D': 2, 'C': 3, 'Ca': 4, 'Caa3': 5, 'Caa2': 6, \n",
    "                                                                   'Caa1': 7, 'B3': 8, 'B2': 9, 'B1': 10, 'Ba3': 11, 'Ba2': 12, \n",
    "                                                                   'Ba1': 13, 'Baa3': 14, 'Baa2': 15, 'Baa1': 16, 'A3': 17, \n",
    "                                                                   'A2': 18, 'A1': 19, 'Aa3': 20, 'Aa2': 21, 'Aa1': 22, 'Aaa': 23})\n",
    "\n",
    "\n",
    "\n",
    "# 7. CMFCUS25_SRT_SP_RATING\n",
    "OBU['CMFCUS25_SRT_SP_RATING'] = OBU['CMFCUS25_SRT_SP_RATING'].map({np.nan: 1, 'D': 2, 'C': 3, 'B': 4, 'A-3': 5, \n",
    "                                                                   'A-2': 6, 'A-1': 7, 'A-1+': 8})\n",
    "\n",
    "# 8. CMFCUS25_SRT_MOODYS_RATING\n",
    "OBU['CMFCUS25_SRT_MOODYS_RATING'] = OBU['CMFCUS25_SRT_MOODYS_RATING'].map({np.nan: 1, 'P-3': 2, 'P-2': 3, 'P-1': 4})\n",
    "\n",
    "# 9. CMFCUS25_SRT_FITCH_RATING\n",
    "OBU['CMFCUS25_SRT_FITCH_RATING'] = np.where(OBU['CMFCUS25_SRT_FITCH_RATING'] == 'F2-', 'F2', OBU['CMFCUS25_SRT_FITCH_RATING']) #Fix typo\n",
    "\n",
    "OBU['CMFCUS25_SRT_FITCH_RATING'] = OBU['CMFCUS25_SRT_FITCH_RATING'].map({np.nan: 1, 'D': 2, 'C': 3, 'B': 4, 'F3': 5, \n",
    "                                                                         'F2': 6, 'F1': 7, 'F1+': 8})\n",
    "\n",
    "\n",
    "# 全部Ordinal變數\n",
    "X_Ordinal = ['CMFCUS1_BUSINESS_CODE', 'NATION_RISK', 'AMT_RANGE', \n",
    "             'OBU_ANNUAL_INCOME', 'JOB_RISK', 'CMFCUS25_SP_RATING', 'CMFCUS25_MOODYS_RATING', \n",
    "             'CMFCUS25_SRT_SP_RATING', 'CMFCUS25_SRT_MOODYS_RATING', 'CMFCUS25_SRT_FITCH_RATING']\n"
   ]
  },
  {
   "cell_type": "markdown",
   "metadata": {},
   "source": [
    "##### 3. Dummy"
   ]
  },
  {
   "cell_type": "code",
   "execution_count": 13,
   "metadata": {},
   "outputs": [],
   "source": [
    "from datetime import date\n",
    "# 需先經過轉換的變數\n",
    "\n",
    "# 1. CMFCUS1_BIRTH_DATE\n",
    "OBU['CMFCUS1_BIRTH_DATE'] = pd.to_datetime(OBU['CMFCUS1_BIRTH_DATE'], errors='coerce') #if out of bounds then return NAT\n",
    "\n",
    "def calculate_age(born):\n",
    "    today = date.today()\n",
    "    return today.year - born.year - ((today.month, today.day) < (born.month, born.day))\n",
    "\n",
    "OBU['CMFCUS1_BIRTH_DATE'] = OBU['CMFCUS1_BIRTH_DATE'].apply(calculate_age)\n",
    "\n",
    "def apply_age(Series):\n",
    "    input = Series\n",
    "    if input < 3:\n",
    "        return '0-3'\n",
    "    elif (input >= 3) & (input < 5):\n",
    "        return '3-5'\n",
    "    elif (input >= 5) & (input < 10):\n",
    "        return '5-10'\n",
    "    elif input >= 10:\n",
    "        return '>10'\n",
    "    else:\n",
    "        'NA_TYPE'\n",
    "\n",
    "OBU['CMFCUS1_BIRTH_DATE'] = OBU['CMFCUS1_BIRTH_DATE'].apply(apply_age)\n",
    "\n",
    "\n",
    "# 2. CMFCUS1_Q_ID\n",
    "# 00, 01, 03, 10, 36, 49, 99都歸於NA_TYPE\n",
    "OBU['CMFCUS1_Q_ID'] = np.where(OBU[\"CMFCUS1_Q_ID\"].isin(['00', '01', '03', '10', '36', '49', '99', 'ZZ', np.nan]), \n",
    "                               'NA_TYPE', OBU[\"CMFCUS1_Q_ID\"])\n",
    "\n",
    "# 3. 'CMFCUS1_PURPOSE', 'CMFCUS1_DERIVATIVE', 'CMFCUS1_TITLE_CODE', 'LN_TYP', 'CONFIRM_TYPE', 'CMFCUS25_BRANCH'\n",
    "# NA改成NA_TYPE\n",
    "for i  in ['CMFCUS1_JOB_TITLE', 'CMFCUS1_PURPOSE', 'CMFCUS1_DERIVATIVE', 'CMFCUS1_TITLE_CODE', 'LN_TYP', 'CONFIRM_TYPE', 'CMFCUS25_BRANCH', 'CMFCUS25_FORE_CASH_FLAG']:\n",
    "    OBU[i] =np.where(OBU[i].isna(), 'NA_TYPE', OBU[i])\n",
    "\n",
    "# 4. CORP_TYPE\n",
    "# 根據IssueLog Mega回覆: 共12類\n",
    "# 1~9, A, Z, Nan: NA_TYPE\n",
    "\n",
    "OBU['CORP_TYPE'] = np.where(OBU['CORP_TYPE'].isin(['1', '2', '3', '4', '5', '6', '7', '8', '9', 'Z', 'A']), OBU['CORP_TYPE'], 'NA_TYPE')\n",
    "\n",
    "\n",
    "# 全部Dummy變數\n",
    "X_Dummy = ['CMFCUS1_BIRTH_DATE', 'CMFCUS1_JOB_TITLE', 'CMFCUS1_Q_ID','CMFCUS1_PURPOSE', 'CMFCUS1_DERIVATIVE', 'CMFCUS1_TITLE_CODE', \n",
    "           'CUST_TYP', 'LN_TYP', 'CONFIRM_TYPE', 'CORP_TYPE', 'CMFCUS25_BRANCH', 'CMFCUS25_FORE_CASH_FLAG', 'CHANNEL']\n"
   ]
  },
  {
   "cell_type": "markdown",
   "metadata": {},
   "source": [
    "#### Variable Selection"
   ]
  },
  {
   "cell_type": "markdown",
   "metadata": {},
   "source": [
    "##### 1. WOE & IV"
   ]
  },
  {
   "cell_type": "code",
   "execution_count": 16,
   "metadata": {},
   "outputs": [
    {
     "name": "stderr",
     "output_type": "stream",
     "text": [
      "/opt/microsoft/mlserver/9.4.7/runtime/python/lib/python3.7/site-packages/ipykernel_launcher.py:41: SettingWithCopyWarning: \n",
      "A value is trying to be set on a copy of a slice from a DataFrame.\n",
      "Try using .loc[row_indexer,col_indexer] = value instead\n",
      "\n",
      "See the caveats in the documentation: http://pandas.pydata.org/pandas-docs/stable/indexing.html#indexing-view-versus-copy\n"
     ]
    }
   ],
   "source": [
    "# Python has no package calculating WOE & IV\n",
    "\n",
    "def iv_woe(data, target, bins=10, show_woe=False):\n",
    "    \n",
    "    # Empty Dataframe\n",
    "    newDF, woeDF = pd.DataFrame(), pd.DataFrame()\n",
    "    \n",
    "    # Extract Column Names\n",
    "    cols = data.columns\n",
    "    \n",
    "    # Run WOE & IV on all X variables\n",
    "    for ivars in cols[~cols.isin([target])]:\n",
    "        if (data[ivars].dtype.kind in 'bifc') & (len(np.unique(data[ivars])) > 10):\n",
    "            binned_x = pd.qcut(data[ivars], bins, duplicates='drop')\n",
    "            d0 = pd.DataFrame({'x': binned_x, 'y': data[target]})\n",
    "        else:\n",
    "            d0 = pd.DataFrame({'x': data[ivars], 'y': data[target]})\n",
    "        \n",
    "        d = d0.groupby('x', as_index=False).agg({'y': ['count', 'sum']})\n",
    "        d.columns = ['Cutoff', 'N', 'Events']\n",
    "        d['% of Events'] = np.maximum(d['Events'], 0.5) / d['Events'].sum()\n",
    "        d['Non-Events'] = d['N'] - d['Events']\n",
    "        d['% of Non-Events'] = np.maximum(d['Non-Events'], 0.5) / d['Non-Events'].sum()\n",
    "        d['WoE'] = np.log(d['% of Events'] / d['% of Non-Events'])\n",
    "        d['IV'] = d['WoE'] * (d['% of Events'] - d['% of Non-Events'])\n",
    "        d.insert(loc=0, column='Variable', value=ivars)\n",
    "        #print(\"Information value of \" + ivars + \" is \" + str(round(d['IV'].sum(), 6)))\n",
    "        \n",
    "        temp = pd.DataFrame({\"Variable\": [ivars], \"IV\": [d['IV'].sum()]}, columns=[\"Variable\", \"IV\"])\n",
    "        newDF = pd.concat([newDF, temp], axis=0)\n",
    "        woeDF = pd.concat([woeDF, d], axis=0)\n",
    "        \n",
    "        # Show WOE Table\n",
    "        if show_woe == True:\n",
    "            print(d)\n",
    "    return newDF, woeDF\n",
    "\n",
    "\n",
    "\n",
    "data = OBU[X_Categorical + X_Ordinal + X_Dummy + ['SAR']]\n",
    "data['SAR'] = LabelEncoder().fit_transform(data['SAR']) # Turn y into [0, 1]\n",
    "# 轉換dummy變數\n",
    "for each in X_Dummy:\n",
    "    dummies = pd.get_dummies(data.loc[:, each], prefix=each)\n",
    "    data = pd.concat([data, dummies], axis=1)\n",
    "\n",
    "# Delete original dummy variable columns\n",
    "data = data.drop(X_Dummy, axis=1)\n",
    "\n",
    "iv, woe = iv_woe(data=data, target='SAR', bins=10, show_woe=False)"
   ]
  },
  {
   "cell_type": "code",
   "execution_count": 17,
   "metadata": {},
   "outputs": [
    {
     "name": "stdout",
     "output_type": "stream",
     "text": [
      "                  Variable        IV\n",
      "0    CMFCUS1_FINANCIAL_ACT  0.619099\n",
      "0                    IX_FG  0.510050\n",
      "0                    EB_FG  0.117921\n",
      "0               CONFIRM_YN  0.950027\n",
      "0      CMFCUS25_CERTI_FLAG  0.339558\n",
      "0    CMFCUS1_ADR_CNT_THR_2  0.257596\n",
      "0   REL_ADVERS_COUNT_THR_1  0.101929\n",
      "0                AMT_RANGE  0.750026\n",
      "0        OBU_ANNUAL_INCOME  0.369085\n",
      "0        CMFCUS1_PURPOSE_E  0.133495\n",
      "0  CMFCUS1_PURPOSE_NA_TYPE  0.354142\n",
      "0           LN_TYP_NA_TYPE  0.137894\n",
      "0           CONFIRM_TYPE_1  0.803638\n",
      "0     CONFIRM_TYPE_NA_TYPE  0.950027\n",
      "0              CORP_TYPE_4  0.170926\n",
      "0        CORP_TYPE_NA_TYPE  0.639748\n",
      "0              CORP_TYPE_Z  0.961433\n",
      "0        CMFCUS25_BRANCH_0  0.590728\n",
      "0  CMFCUS25_BRANCH_NA_TYPE  0.689674\n"
     ]
    }
   ],
   "source": [
    "# 0.02-0.1: the predictor has only a weak relationship to the Goods/Bads odds ration\n",
    "# 0.1-0.3: the predictor has a medium strength relationship to the Goods/Bads odds ration\n",
    "# 0.3-0.5: the predictor has a strong relationship to the Goods/Bads odds ration\n",
    "# >0.5: suspicious relationship\n",
    "\n",
    "# Select variable with IV larger than 0.1 \n",
    "print(iv[iv[\"IV\"] > 0.1])"
   ]
  },
  {
   "cell_type": "markdown",
   "metadata": {},
   "source": [
    "##### 3. Check VIF"
   ]
  },
  {
   "cell_type": "markdown",
   "metadata": {},
   "source": [
    "##### 先確認是否有不應該出現的變數(EX: 法人資料出現個人戶相關欄位)"
   ]
  },
  {
   "cell_type": "code",
   "execution_count": 19,
   "metadata": {},
   "outputs": [
    {
     "name": "stdout",
     "output_type": "stream",
     "text": [
      "                    feature       VIF\n",
      "0     CMFCUS1_FINANCIAL_ACT  6.623131\n",
      "1                     IX_FG  1.375159\n",
      "2                     EB_FG  2.792329\n",
      "3     CMFCUS1_ADR_CNT_THR_2  4.190917\n",
      "4    REL_ADVERS_COUNT_THR_1  1.004793\n",
      "5                 AMT_RANGE  6.570026\n",
      "6         OBU_ANNUAL_INCOME  4.486303\n",
      "7         CMFCUS1_PURPOSE_E  1.363934\n",
      "8   CMFCUS1_PURPOSE_NA_TYPE  1.725202\n",
      "9            LN_TYP_NA_TYPE  1.199634\n",
      "10           CONFIRM_TYPE_1  5.464775\n",
      "11              CORP_TYPE_4  1.722651\n"
     ]
    }
   ],
   "source": [
    "# check IV > 0.1 variables' VIF\n",
    "from statsmodels.stats.outliers_influence import variance_inflation_factor\n",
    "\n",
    "# Variables with VIF over 10 should be checked \n",
    "# Drop some columns with high VIF(The variables are changeable to find the best answer) \n",
    "X_trans = data[pd.Series.tolist(iv.loc[iv['IV'] >= 0.1, 'Variable'])]\n",
    "\n",
    "# Remove the highest VIF column that are above 10\n",
    "X_trans = X_trans.drop(['CONFIRM_YN', 'CONFIRM_TYPE_NA_TYPE', 'CORP_TYPE_NA_TYPE', \n",
    "                        'CMFCUS25_BRANCH_NA_TYPE', 'CORP_TYPE_Z', 'CMFCUS25_BRANCH_0', 'CMFCUS25_CERTI_FLAG'], axis=1)\n",
    "\n",
    "# The calculating VIF function does not accept columns with string type\n",
    "for col in X_trans.columns:\n",
    "    X_trans.loc[:, col] = pd.to_numeric(X_trans[col])\n",
    "\n",
    "vif_data = pd.DataFrame()\n",
    "vif_data.loc[:, 'feature'] = X_trans.columns\n",
    "\n",
    "# Calculating VIF for each feature\n",
    "vif_data.loc[:, 'VIF'] = [variance_inflation_factor(X_trans.values, i) for i in range(len(X_trans.columns))]\n",
    "print(vif_data)"
   ]
  },
  {
   "cell_type": "markdown",
   "metadata": {},
   "source": [
    "##### 3. Final Variable Selection"
   ]
  },
  {
   "cell_type": "code",
   "execution_count": 20,
   "metadata": {},
   "outputs": [],
   "source": [
    "# Final Variables\n",
    "X_col = X_trans.columns\n",
    "X_col = X_col.tolist()"
   ]
  },
  {
   "cell_type": "markdown",
   "metadata": {},
   "source": [
    "#### 2.1 Run Model with imbalancing data(Including ROC curve & recall score)"
   ]
  },
  {
   "cell_type": "markdown",
   "metadata": {},
   "source": [
    "#### 整體資料跑 Cross-Validation"
   ]
  },
  {
   "cell_type": "code",
   "execution_count": 21,
   "metadata": {},
   "outputs": [],
   "source": [
    "X = OBU\n",
    "\n",
    "# 轉換dummy變數\n",
    "for each in X_Dummy:\n",
    "    dummies = pd.get_dummies(X.loc[:, each], prefix=each)\n",
    "    X = pd.concat([X, dummies], axis=1)\n",
    "\n",
    "y = X['SAR']\n",
    "# Select Final Columns\n",
    "X = X[X_col]\n"
   ]
  },
  {
   "cell_type": "code",
   "execution_count": 22,
   "metadata": {},
   "outputs": [
    {
     "name": "stdout",
     "output_type": "stream",
     "text": [
      "[0.67833698 0.67427321 0.70053142 0.65270397 0.66614567]\n"
     ]
    }
   ],
   "source": [
    "logistic_regression = LogisticRegression(solver='liblinear', class_weight='balanced')\n",
    "skf = StratifiedKFold(n_splits=5, shuffle=True, random_state=2)\n",
    "print(cross_val_score(logistic_regression, X, y, cv=skf))"
   ]
  },
  {
   "cell_type": "code",
   "execution_count": 22,
   "metadata": {},
   "outputs": [
    {
     "name": "stdout",
     "output_type": "stream",
     "text": [
      "0.67833698 (0.6413535907826853, 0.7054735442173148)\n",
      "0.67427321 (0.6421155440326516, 0.7067434759673485)\n",
      "0.70053142 (0.6498730981732197, 0.6858568168267805)\n",
      "0.65270397 (0.6564191801999799, 0.7032244598000201)\n",
      "0.66614567 (0.6452787349550103, 0.7076440550449897)\n"
     ]
    }
   ],
   "source": [
    "# 每次的結果與其餘四次之95% Confidence Interval進行比對\n",
    "\n",
    "outcome = [0.67833698, 0.67427321, 0.70053142, 0.65270397, 0.66614567]\n",
    "\n",
    "# Function to calculate confidence interval\n",
    "def confidence_interval(data, confidence=0.95):\n",
    "    a = 1.0 * np.array(data)\n",
    "    n = len(a)\n",
    "    m, se = np.mean(a), scipy.stats.sem(a)\n",
    "    h = se * scipy.stats.t.ppf((1 + confidence) / 2, n-1)\n",
    "    return m-h, m+h\n",
    "\n",
    "for i in range(0,5):\n",
    "    temp = copy.deepcopy(outcome)\n",
    "    comparison = temp.pop(i)\n",
    "    print(comparison, confidence_interval(temp))\n"
   ]
  },
  {
   "cell_type": "code",
   "execution_count": 23,
   "metadata": {},
   "outputs": [
    {
     "name": "stdout",
     "output_type": "stream",
     "text": [
      "FINAL_CRR  SAR\n",
      "H          N      0.376830\n",
      "           Y      0.649173\n",
      "L          N      0.338494\n",
      "M          N      0.347651\n",
      "Name: pred_proba, dtype: float64\n",
      "FINAL_CRR  SAR\n",
      "H          N      0.357862\n",
      "           Y      0.599564\n",
      "L          N      0.337455\n",
      "M          N      0.348242\n",
      "Name: pred_proba, dtype: float64\n",
      "FINAL_CRR  SAR\n",
      "H          N      0.374181\n",
      "           Y      0.637516\n",
      "L          N      0.297275\n",
      "M          N      0.349676\n",
      "Name: pred_proba, dtype: float64\n",
      "FINAL_CRR  SAR\n",
      "H          N      0.379030\n",
      "           Y      0.650012\n",
      "L          N      0.299180\n",
      "M          N      0.347875\n",
      "Name: pred_proba, dtype: float64\n",
      "FINAL_CRR  SAR\n",
      "H          N      0.380572\n",
      "           Y      0.614435\n",
      "L          N      0.327429\n",
      "M          N      0.351755\n",
      "Name: pred_proba, dtype: float64\n"
     ]
    }
   ],
   "source": [
    "logistic_regression = LogisticRegression(solver='liblinear', class_weight='balanced')\n",
    "for train_index, test_index in skf.split(X, y):\n",
    "    X_train, X_test = X.iloc[train_index], X.iloc[test_index]\n",
    "    y_train, y_test = y.iloc[train_index], y.iloc[test_index]\n",
    "    logistic_regression.fit(X_train, y_train)\n",
    "    \n",
    "    # Record Predict Outcome\n",
    "    OBU.loc[test_index, 'pred'] = logistic_regression.predict(X_test)\n",
    "    # Record Probability\n",
    "    OBU.loc[test_index, 'pred_proba'] = logistic_regression.predict_proba(X_test)[:, 1].astype(float)\n",
    "    print(OBU.iloc[test_index].groupby(['FINAL_CRR', 'SAR'])['pred_proba'].mean())"
   ]
  },
  {
   "cell_type": "code",
   "execution_count": 24,
   "metadata": {},
   "outputs": [
    {
     "name": "stdout",
     "output_type": "stream",
     "text": [
      "FINAL_CRR\n",
      "H    0.384499\n",
      "L    0.338494\n",
      "M    0.347651\n",
      "Name: pred_proba, dtype: float64\n",
      "FINAL_CRR\n",
      "H    0.364706\n",
      "L    0.337455\n",
      "M    0.348242\n",
      "Name: pred_proba, dtype: float64\n",
      "FINAL_CRR\n",
      "H    0.381379\n",
      "L    0.297275\n",
      "M    0.349676\n",
      "Name: pred_proba, dtype: float64\n",
      "FINAL_CRR\n",
      "H    0.386471\n",
      "L    0.299180\n",
      "M    0.347875\n",
      "Name: pred_proba, dtype: float64\n",
      "FINAL_CRR\n",
      "H    0.387304\n",
      "L    0.327429\n",
      "M    0.351755\n",
      "Name: pred_proba, dtype: float64\n"
     ]
    }
   ],
   "source": [
    "logistic_regression = LogisticRegression(solver='liblinear', class_weight='balanced')\n",
    "for train_index, test_index in skf.split(X, y):\n",
    "    X_train, X_test = X.iloc[train_index], X.iloc[test_index]\n",
    "    y_train, y_test = y.iloc[train_index], y.iloc[test_index]\n",
    "    logistic_regression.fit(X_train, y_train)\n",
    "    \n",
    "    # Record Predict Outcome\n",
    "    OBU.loc[test_index, 'pred'] = logistic_regression.predict(X_test)\n",
    "    # Record Probability\n",
    "    OBU.loc[test_index, 'pred_proba'] = logistic_regression.predict_proba(X_test)[:, 1].astype(float)\n",
    "    print(OBU.iloc[test_index].groupby(['FINAL_CRR'])['pred_proba'].mean())"
   ]
  },
  {
   "cell_type": "code",
   "execution_count": 25,
   "metadata": {},
   "outputs": [
    {
     "data": {
      "text/plain": [
       "[0.0, 0.25)    6938\n",
       "[0.5, inf)     5314\n",
       "[0.25, 0.5)    3743\n",
       "Name: pred_proba, dtype: int64"
      ]
     },
     "execution_count": 25,
     "metadata": {},
     "output_type": "execute_result"
    }
   ],
   "source": [
    "bins = [0, 0.25, 0.5, np.inf]\n",
    "\n",
    "pd.cut(OBU['pred_proba'], bins, right=False).value_counts()"
   ]
  },
  {
   "cell_type": "code",
   "execution_count": 26,
   "metadata": {},
   "outputs": [
    {
     "data": {
      "text/plain": [
       "FINAL_CRR  pd_cut     \n",
       "H          [0.0, 0.25)    2911\n",
       "           [0.25, 0.5)    1858\n",
       "           [0.5, inf)     2587\n",
       "L          [0.0, 0.25)     430\n",
       "           [0.25, 0.5)     195\n",
       "           [0.5, inf)      237\n",
       "M          [0.0, 0.25)    3597\n",
       "           [0.25, 0.5)    1690\n",
       "           [0.5, inf)     2490\n",
       "Name: pd_cut, dtype: int64"
      ]
     },
     "execution_count": 26,
     "metadata": {},
     "output_type": "execute_result"
    }
   ],
   "source": [
    "OBU['pd_cut'] = pd.cut(OBU['pred_proba'], bins, right=False)\n",
    "OBU.groupby(['FINAL_CRR', 'pd_cut'])['pd_cut'].count()"
   ]
  },
  {
   "cell_type": "code",
   "execution_count": 27,
   "metadata": {},
   "outputs": [
    {
     "name": "stdout",
     "output_type": "stream",
     "text": [
      "Accuracy:  0.674398249452954\n"
     ]
    },
    {
     "data": {
      "image/png": "[encoded data removed]",
      "text/plain": [
       "<Figure size 432x288 with 2 Axes>"
      ]
     },
     "metadata": {
      "needs_background": "light"
     },
     "output_type": "display_data"
    },
    {
     "name": "stdout",
     "output_type": "stream",
     "text": [
      "Recall Score:  0.7572815533980582\n",
      "Precision Score:  0.029356417011667295\n",
      "Area Under Curve:  0.7915542158821399\n"
     ]
    },
    {
     "data": {
      "image/png": "[encoded data removed]",
      "text/plain": [
       "<Figure size 432x288 with 1 Axes>"
      ]
     },
     "metadata": {
      "needs_background": "light"
     },
     "output_type": "display_data"
    }
   ],
   "source": [
    "confusion_matrix = pd.crosstab(OBU['SAR'], OBU['pred'], rownames=['Actual'], \n",
    "                              colnames=['Predicted'])\n",
    "sn.heatmap(confusion_matrix, annot=True)\n",
    "print('Accuracy: ', metrics.accuracy_score(OBU['SAR'], OBU['pred']))\n",
    "plt.show()\n",
    "\n",
    "recall_score = metrics.recall_score(OBU['SAR'], OBU['pred'], pos_label='Y')\n",
    "precision_score = metrics.precision_score(OBU['SAR'], OBU['pred'], pos_label='Y')\n",
    "print('Recall Score: ', recall_score)\n",
    "print('Precision Score: ', precision_score)\n",
    "\n",
    "\n",
    "print('Area Under Curve: ', roc_auc_score(OBU['SAR'], OBU['pred_proba']))\n",
    "\n",
    "fpr, tpr, threshold = metrics.roc_curve(OBU['SAR'], OBU['pred_proba'], pos_label='Y')\n",
    "roc_auc = metrics.auc(fpr, tpr)\n",
    "\n",
    "plt.title('Receiver Operating Characteristic')\n",
    "plt.plot(fpr, tpr, 'b', label='ROC Curve (AUC = %0.2f)' % roc_auc)\n",
    "plt.legend(loc='lower right')\n",
    "plt.plot([0,1], [0,1], 'r--')\n",
    "plt.xlim([0, 1])\n",
    "plt.ylim([0, 1])\n",
    "plt.ylabel('True Positive Rate')\n",
    "plt.xlabel('False Positive Rate')\n",
    "plt.show()"
   ]
  },
  {
   "cell_type": "markdown",
   "metadata": {},
   "source": [
    "#### 2.2 全部資料跑模型，確認變數係數"
   ]
  },
  {
   "cell_type": "code",
   "execution_count": 30,
   "metadata": {},
   "outputs": [
    {
     "name": "stdout",
     "output_type": "stream",
     "text": [
      "Intercept:  [-3.58032608] \n",
      "\n",
      "CMFCUS1_FINANCIAL_ACT :  1.498346349885179\n",
      "IX_FG :  1.13337880592972\n",
      "EB_FG :  0.047498708362128675\n",
      "CMFCUS1_ADR_CNT_THR_2 :  0.1973944153228511\n",
      "REL_ADVERS_COUNT_THR_1 :  3.560803841675186\n",
      "AMT_RANGE :  0.39690861573606573\n",
      "OBU_ANNUAL_INCOME :  0.1386544011820941\n",
      "CMFCUS1_PURPOSE_E :  0.5110452908965969\n",
      "CMFCUS1_PURPOSE_NA_TYPE :  0.46805801029192445\n",
      "LN_TYP_NA_TYPE :  -1.9710419049196\n",
      "CONFIRM_TYPE_1 :  0.9747241891350192\n",
      "CORP_TYPE_4 :  -1.5061437883660274\n",
      "----------------------------------\n",
      "AIC:  11.19373088247378\n",
      "BIC:  -5431.048403294713\n"
     ]
    }
   ],
   "source": [
    "X_train, X_test = X, y\n",
    "\n",
    "# class_weight='balanced'\n",
    "logistic_regression = LogisticRegression(solver='liblinear', class_weight='balanced')\n",
    "logistic_regression.fit(X_train, y_train)\n",
    "\n",
    "# Weights & Intercept\n",
    "print('Intercept: ', logistic_regression.intercept_, '\\n')\n",
    "\n",
    "for i in range(len(logistic_regression.coef_[0])):\n",
    "    print(X.columns[i], ': ', logistic_regression.coef_[0][i])\n",
    "print('----------------------------------')\n",
    "# Search sklearn.feature_selection\n",
    "\n",
    "\n",
    "# AIC\n",
    "# 待定: 計算residual的時候 y hat應該用probability 還是 outcome(0, 1)\n",
    "y_test_trans = [1 if i=='Y' else 0 for i in y_test]\n",
    "resid = y_test_trans - logistic_regression.predict_proba(X_test)[:, 1]\n",
    "sse = sum(resid**2)\n",
    "k = len(X_test.columns) #number of variables\n",
    "AIC = 2*k - 2*np.log(sse) # k: number of parameters\n",
    "print('AIC: ', AIC) # the smaller the better\n",
    "\n",
    "# BIC\n",
    "n = len(X_test) #the number of observations\n",
    "BIC = n*np.log(sse/n) - k*np.log(n) # k: number of parameters\n",
    "print('BIC: ', BIC)"
   ]
  },
  {
   "cell_type": "code",
   "execution_count": null,
   "metadata": {},
   "outputs": [],
   "source": []
  },
  {
   "cell_type": "code",
   "execution_count": null,
   "metadata": {},
   "outputs": [],
   "source": []
  },
  {
   "cell_type": "markdown",
   "metadata": {},
   "source": [
    "#### Appendix"
   ]
  },
  {
   "cell_type": "code",
   "execution_count": 37,
   "metadata": {},
   "outputs": [
    {
     "data": {
      "text/plain": [
       "FINAL_CRR  SAR\n",
       "H          N      7150\n",
       "           Y       206\n",
       "L          N       862\n",
       "M          N      7777\n",
       "Name: SAR, dtype: int64"
      ]
     },
     "execution_count": 37,
     "metadata": {},
     "output_type": "execute_result"
    }
   ],
   "source": [
    "OBU.groupby(['FINAL_CRR', 'SAR'])['SAR'].count()"
   ]
  },
  {
   "cell_type": "code",
   "execution_count": null,
   "metadata": {},
   "outputs": [],
   "source": []
  }
 ],
 "metadata": {
  "kernelspec": {
   "display_name": "Python 3",
   "language": "python",
   "name": "python3"
  },
  "language_info": {
   "codemirror_mode": {
    "name": "ipython",
    "version": 3
   },
   "file_extension": ".py",
   "mimetype": "text/x-python",
   "name": "python",
   "nbconvert_exporter": "python",
   "pygments_lexer": "ipython3",
   "version": "3.8.3"
  }
 },
 "nbformat": 4,
 "nbformat_minor": 4
}
