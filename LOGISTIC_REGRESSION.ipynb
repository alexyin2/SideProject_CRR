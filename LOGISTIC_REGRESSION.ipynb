{
 "cells": [
  {
   "cell_type": "markdown",
   "metadata": {},
   "source": [
    "OBU Analysis\n",
    "\n",
    "Update\n",
    "1. 分析使用一年份資料，僅保留客戶最新資訊欄位\n",
    "2. 與兆豐討論後移除變數如下\n",
    "    - REPORT_FG\n",
    "    - CDD_STATUS\n",
    "    - RISK_LEVEL\n",
    "3. 與兆豐討論後若模型選中需移除之變數如下:\n",
    "    - CMFCUS1_ADR_CNT\n",
    "    - CMFCUS1_PURPOSE_NA_TYPE\n",
    "    - CONFIRM_TYPE_1\n",
    "    - LN_TYPE_NA_TYPE"
   ]
  },
  {
   "cell_type": "code",
   "execution_count": 1,
   "metadata": {},
   "outputs": [],
   "source": [
    "# Module 匯入\n",
    "import os.path\n",
    "import pandas as pd\n",
    "import numpy as np\n",
    "from datetime import date\n",
    "\n",
    "from sklearn.model_selection import train_test_split\n",
    "from sklearn.linear_model import Lasso, LogisticRegression # logistic regression\n",
    "from sklearn.feature_selection import SelectFromModel\n",
    "from sklearn import metrics\n",
    "import seaborn as sn\n",
    "import matplotlib.pyplot as plt\n",
    "import matplotlib.ticker as mtick\n",
    "%matplotlib inline\n",
    "from sklearn.preprocessing import OrdinalEncoder\n",
    "from sklearn.preprocessing import LabelEncoder\n",
    "from sklearn.model_selection import ShuffleSplit\n",
    "from sklearn.neighbors import KNeighborsClassifier\n",
    "from sklearn.metrics import roc_auc_score\n",
    "from sklearn.metrics import precision_recall_curve #P-R Curve\n",
    "from sklearn import metrics\n",
    "from sklearn.model_selection import GridSearchCV #Hyperparameters\n",
    "\n",
    "from sklearn.model_selection import cross_val_score\n",
    "from sklearn.model_selection import StratifiedKFold"
   ]
  },
  {
   "cell_type": "markdown",
   "metadata": {},
   "source": [
    "#### 1. Data Import & Cleaning"
   ]
  },
  {
   "cell_type": "code",
   "execution_count": 2,
   "metadata": {},
   "outputs": [],
   "source": [
    "# 資料匯入\n",
    "\n",
    "# EY補充\n",
    "# 此處路徑需更新為最新資料存放路徑\n",
    "\n",
    "OBU = pd.read_csv(r\"/home/bigdata93601/DB Result/OBU_result_one_year.csv\", dtype=str)\n",
    "OBU['CYC_MN'] = pd.to_datetime(OBU['CYC_MN'])"
   ]
  },
  {
   "cell_type": "code",
   "execution_count": 4,
   "metadata": {},
   "outputs": [],
   "source": [
    "# 刪除FINAL_CRR為空值的row\n",
    "OBU = OBU[OBU['FINAL_CRR'].notna()]\n",
    "OBU.reset_index(inplace=True)\n",
    "\n",
    "# CUST_DUP_NO 空值補0\n",
    "OBU['CUST_DUP_NO'] = OBU['CUST_DUP_NO'].fillna('0')\n",
    "\n",
    "# SAR: 非 Y即 N\n",
    "OBU['SAR'] = np.where(OBU['SAR'] == 'Y', 'Y', 'N')"
   ]
  },
  {
   "cell_type": "markdown",
   "metadata": {},
   "source": [
    "##### Drop Duplicated data (New Version)\n",
    "目的: 僅保留在資訊層面最新之帳戶"
   ]
  },
  {
   "cell_type": "code",
   "execution_count": 8,
   "metadata": {},
   "outputs": [],
   "source": [
    "# 僅保留客戶最新資訊欄位\n",
    "use_cols = ['CUST_ID', 'CUST_DUP_NO'] + ['SAR']\n",
    "OBU = OBU.sort_values('CYC_MN', ascending=False).drop_duplicates(subset=use_cols, keep='first')\n",
    "OBU.reset_index(inplace=True, drop=True)"
   ]
  },
  {
   "cell_type": "code",
   "execution_count": 9,
   "metadata": {},
   "outputs": [
    {
     "data": {
      "text/plain": [
       "2019-09-01       96\n",
       "2019-10-01       87\n",
       "2019-11-01       81\n",
       "2019-12-01       52\n",
       "2020-01-01       59\n",
       "2020-02-01       55\n",
       "2020-03-01       63\n",
       "2020-04-01       52\n",
       "2020-05-01       64\n",
       "2020-06-01       75\n",
       "2020-07-01       67\n",
       "2020-08-01    16672\n",
       "Name: CYC_MN, dtype: int64"
      ]
     },
     "execution_count": 9,
     "metadata": {},
     "output_type": "execute_result"
    }
   ],
   "source": [
    "OBU['CYC_MN'].value_counts(dropna=False).sort_index()"
   ]
  },
  {
   "cell_type": "code",
   "execution_count": null,
   "metadata": {},
   "outputs": [],
   "source": []
  },
  {
   "cell_type": "code",
   "execution_count": null,
   "metadata": {},
   "outputs": [],
   "source": []
  },
  {
   "cell_type": "markdown",
   "metadata": {},
   "source": [
    "#### 2. 變數轉換"
   ]
  },
  {
   "cell_type": "markdown",
   "metadata": {},
   "source": [
    "##### 2.1 類別型變數  \n",
    "- 原始欄位為類別型變數"
   ]
  },
  {
   "cell_type": "code",
   "execution_count": 10,
   "metadata": {},
   "outputs": [],
   "source": [
    "# EY補充\n",
    "# 新增欄位的情況下，將類別型變數轉換為Y/N的資料格式。\n",
    "# 下面範例將以df代表輸入資料，NEW_COLUMN代表新增欄位\n",
    "# \n",
    "# 範例一\n",
    "# 新增欄位的資料內容為[\"V\", Nan, \"V\", \"V\", Nan, ... , \"V\"]；欲將V轉換為Y，空值(Nan)轉換為N。\n",
    "# df[\"NEW_COLUMN\"] = np.where(df[\"NEW_COLUMN\"] == \"V\", \"Y\", \"N\")\n",
    "#\n",
    "# 範例二\n",
    "# 新增欄位的資料內容為[\"Y\", \"DELAY\", \"Y\", Nan, \"Y\", ... , \"N\"]；欲將非Y/N轉換為N，其餘資料維持原狀。\n",
    "# df[\"NEW_COLUMN\"] = np.where(df[\"NEW_COLUMN\"].isin([\"Y\", \"N\"], df[\"NEW_COLUMN\"], \"N\"))\n",
    "#\n",
    "# 範例三\n",
    "# 新增欄位的資料內容為[\"01\", \"02\", \"03\", \"04\", ..., \"01\"]；欲將01-02轉換為Y，03-04轉換為N。\n",
    "# df[\"NEW_COLUMN\"] = df[\"NEW_COLUMN\"].map({\"01\": \"Y\", \"02\": \"Y\", \"03\": \"N\", \"04\": \"N\"})\n",
    "\n",
    "\n",
    "# 類別型變數轉換\n",
    "# CMFCUS1_AML_BUSINESS\n",
    "def apply_CMFCUS1_AML_BUSINESS(series):\n",
    "    input = series['CMFCUS1_AML_BUSINESS']\n",
    "    if (input in ['01', '02', '03', '04', '05', '06', '07', '08']):\n",
    "        return 'Y'\n",
    "    else:\n",
    "        return 'N'\n",
    "\n",
    "OBU['CMFCUS1_AML_BUSINESS'] = OBU.apply(apply_CMFCUS1_AML_BUSINESS, axis=1)\n",
    "\n",
    "\n",
    "for i in ['DP_FG', 'LN_FG', 'IX_FG', 'BD_FG', 'FD_FG', 'WM_FG', 'TR_FG', 'EB_FG', 'CD_FG', 'OT_FG']:\n",
    "    OBU[i] = np.where(OBU[i] == 'V', 'Y', 'N')\n",
    "\n",
    "\n",
    "# CMFCUS25_AE_TYPE\n",
    "# Turn Na into 'N'; other into 'Y'\n",
    "OBU['CMFCUS25_AE_TYPE'] = np.where((OBU[\"CMFCUS25_AE_TYPE\"].isin(['1', '2', '3', '4', '5', '6', '7'])), 'Y', 'N')\n",
    "\n",
    "\n",
    "# 類別型變數名錄\n",
    "# 非 (Y or N) 即 N\n",
    "\n",
    "X_Categorical = ['CMFCUS1_VIP_CODE', 'CMFCUS1_BUSINESS_FLAG', 'CMFCUS1_NOTAX_FLAG', 'CMFCUS1_FINANCIAL_ACT', \n",
    "                 'CMFCUS1_AML_BUSINESS', 'DP_FG', 'LN_FG', 'IX_FG', 'BD_FG', 'FD_FG', 'WM_FG', 'TR_FG', 'EB_FG', \n",
    "                 'CD_FG', 'OT_FG', 'TRUST_YN', 'CONFIRM_YN', 'COMPLEX_CS_FG', 'AUTHORIZED', 'BEARER_SHARE', \n",
    "                 'ISSUE_BEARER', 'SOLE_CORP', 'TRUST_HOLDER', 'CUST_PANA', 'CUST_THIRD', 'CUST_ADVRS', \n",
    "                 'CUST_BAHA', 'CUST_PARA', 'CMFCUS25_AE_TYPE', 'CMFCUS25_FOREIGN_COMPANY', 'CMFCUS25_FOREIGN_ENTITY', \n",
    "                 'CMFCUS25_CERTI_FLAG', 'CMFCUS25_TAXFREE_FLAG', 'CMFCUS25_CREATIVE_FLAG', 'CMFCUS25_OSU_FLAG', \n",
    "                 'CMFCUS25_PUBLIC_CMPY']\n",
    "\n",
    "for x in X_Categorical:\n",
    "    OBU[x] = np.where(~OBU[x].isin(['Y', 'N']), 'N', OBU[x])\n"
   ]
  },
  {
   "cell_type": "markdown",
   "metadata": {},
   "source": [
    "- 計算後轉換為類別型變數"
   ]
  },
  {
   "cell_type": "code",
   "execution_count": 11,
   "metadata": {},
   "outputs": [],
   "source": [
    "# EY補充\n",
    "# 計算後轉換為類別型變數之欄位需要由使用者自行定義分類條件\n",
    "# 下面範例將以df代表輸入資料；NEW_COLUMN_代表新增欄位\n",
    "# \n",
    "# 範例一\n",
    "# 新增欄位的資料內容為[\"3\", \"2\", \"1\", \"0\", Nan, ... , \"2\"]\n",
    "# 使用者欲將數量大於等於1轉換為Y，其餘轉換為N。\n",
    "# df[\"NEW_COLUMN\"] = np.where(df[\"NEW_COLUMN\"].fillna(\"0\").astype(int) >= 1, \"Y\", \"N\")\n",
    "\n",
    "\n",
    "# 變數計算\n",
    "# PEP_COUNT\n",
    "test = OBU[(OBU['PEP_1'] == 'Y') | (OBU['PEP_2'] == 'Y') | (OBU['PEP_3'] == 'Y') | (OBU['PEP_4'] == 'Y')][['PEP_1', 'PEP_2', 'PEP_3', 'PEP_4']]\n",
    "test2 = test.apply(pd.Series.value_counts, axis=1).fillna(0)\n",
    "OBU['PEP_COUNT'] = 0\n",
    "OBU.loc[test2.index, 'PEP_COUNT'] = test2['Y']\n",
    "\n",
    "# REL_ADVERS_COUNT\n",
    "test = OBU[(OBU['REL_ADVRS_1'] == 'Y') | (OBU['REL_ADVRS_2'] == 'Y') | (OBU['REL_ADVRS_3'] == 'Y') | (OBU['REL_ADVRS_4'] == 'Y') | (OBU['REL_ADVRS_5'] == 'Y') | \n",
    "          (OBU['REL_ADVRS_6'] == 'Y') | (OBU['REL_ADVRS_7'] == 'Y') | (OBU['REL_ADVRS_8'] == 'Y') | (OBU['REL_ADVRS_9'] == 'Y') | (OBU['REL_ADVRS_10'] == 'Y') |\n",
    "          (OBU['REL_ADVRS_11'] == 'Y') | (OBU['REL_ADVRS_12'] == 'Y') | (OBU['REL_ADVRS_13'] == 'Y') | (OBU['REL_ADVRS_14'] == 'Y') | (OBU['REL_ADVRS_15'] == 'Y') | \n",
    "          (OBU['REL_ADVRS_16'] == 'Y') | (OBU['REL_ADVRS_17'] == 'Y') | (OBU['REL_ADVRS_18'] == 'Y') | (OBU['REL_ADVRS_19'] == 'Y') | (OBU['REL_ADVRS_20'] == 'Y')\n",
    "          ][['REL_ADVRS_1', 'REL_ADVRS_2', 'REL_ADVRS_3', 'REL_ADVRS_4', 'REL_ADVRS_5', 'REL_ADVRS_6', 'REL_ADVRS_7', 'REL_ADVRS_8', \n",
    "            'REL_ADVRS_9', 'REL_ADVRS_10', 'REL_ADVRS_11', 'REL_ADVRS_12', 'REL_ADVRS_13', 'REL_ADVRS_14', 'REL_ADVRS_15', 'REL_ADVRS_16', \n",
    "            'REL_ADVRS_17', 'REL_ADVRS_18', 'REL_ADVRS_19', 'REL_ADVRS_20']] \n",
    "test2 = test.apply(pd.Series.value_counts, axis=1).fillna(0)\n",
    "OBU['REL_ADVERS_COUNT'] = 0\n",
    "OBU.loc[test2.index, 'REL_ADVERS_COUNT'] = test2['Y']\n",
    "\n",
    "# REL_PEPS_COUNT\n",
    "test = OBU[(OBU['REL_PEPS_1'] == 'Y') | (OBU['REL_PEPS_2'] == 'Y') | (OBU['REL_PEPS_3'] == 'Y') | (OBU['REL_PEPS_4'] == 'Y') | (OBU['REL_PEPS_5'] == 'Y') | \n",
    "          (OBU['REL_PEPS_6'] == 'Y') | (OBU['REL_PEPS_7'] == 'Y') | (OBU['REL_PEPS_8'] == 'Y') | (OBU['REL_PEPS_9'] == 'Y') | (OBU['REL_PEPS_10'] == 'Y') |\n",
    "          (OBU['REL_PEPS_11'] == 'Y') | (OBU['REL_PEPS_12'] == 'Y') | (OBU['REL_PEPS_13'] == 'Y') | (OBU['REL_PEPS_14'] == 'Y') | (OBU['REL_PEPS_15'] == 'Y') | \n",
    "          (OBU['REL_PEPS_16'] == 'Y') | (OBU['REL_PEPS_17'] == 'Y') | (OBU['REL_PEPS_18'] == 'Y') | (OBU['REL_PEPS_19'] == 'Y') | (OBU['REL_PEPS_20'] == 'Y')\n",
    "          ][['REL_PEPS_1', 'REL_PEPS_2', 'REL_PEPS_3', 'REL_PEPS_4', 'REL_PEPS_5', 'REL_PEPS_6', 'REL_PEPS_7', 'REL_PEPS_8', \n",
    "            'REL_PEPS_9', 'REL_PEPS_10', 'REL_PEPS_11', 'REL_PEPS_12', 'REL_PEPS_13', 'REL_PEPS_14', 'REL_PEPS_15', 'REL_PEPS_16', \n",
    "            'REL_PEPS_17', 'REL_PEPS_18', 'REL_PEPS_19', 'REL_PEPS_20']] \n",
    "test2 = test.apply(pd.Series.value_counts, axis=1).fillna(0)\n",
    "OBU['REL_PEPS_COUNT'] = 0\n",
    "OBU.loc[test2.index, 'REL_PEPS_COUNT'] = test2['Y']\n",
    "\n",
    "\n",
    "# 非數字即 0\n",
    "X_Numeric = ['CMFCUS1_MPHONE_CNT', 'CMFCUS1_OPHONE_CNT', \n",
    "             'PEP_COUNT', 'REL_ADVERS_COUNT', 'REL_PEPS_COUNT']\n",
    "\n",
    "for col in X_Numeric:\n",
    "    OBU[col] = OBU[col].fillna(0)\n",
    "    \n",
    "\n",
    "# 依條件轉換為類別型變數\n",
    "\n",
    "# CMFCUS1_MPHONE_CNT; \n",
    "OBU['CMFCUS1_MPHONE_CNT'] = OBU['CMFCUS1_MPHONE_CNT'].astype(int)\n",
    "# Create new column\n",
    "OBU['CMFCUS1_MPHONE_CNT_THR_2'] = np.where(OBU['CMFCUS1_MPHONE_CNT'] >= 2, 'Y', 'N')\n",
    "\n",
    "# CMFCUS1_OPHONE_CNT\n",
    "OBU['CMFCUS1_OPHONE_CNT'] = OBU['CMFCUS1_OPHONE_CNT'].astype(int)\n",
    "# Create new column\n",
    "OBU['CMFCUS1_OPHONE_CNT_THR_2'] = np.where(OBU['CMFCUS1_OPHONE_CNT'] >= 2, 'Y', 'N')\n",
    "\n",
    "# PEP_COUNT\n",
    "# Create new column\n",
    "OBU['PEP_COUNT_THR_1'] = np.where(OBU['PEP_COUNT'] >=1, 'Y', 'N')\n",
    "\n",
    "# REL_ADVERS_COUNT\n",
    "# Create new column\n",
    "OBU['REL_ADVERS_COUNT_THR_1'] = np.where(OBU['REL_ADVERS_COUNT'] >=1, 'Y', 'N')\n",
    "\n",
    "# REL_PEPS_COUNT\n",
    "# Create new column\n",
    "OBU['REL_PEPS_COUNT_THR_1'] = np.where(OBU['REL_PEPS_COUNT'] >=1, 'Y', 'N')\n",
    "\n",
    "# 更新類別型變數名錄\n",
    "X_Categorical = X_Categorical + ['CMFCUS1_MPHONE_CNT_THR_2', 'CMFCUS1_OPHONE_CNT_THR_2', \n",
    "                                 'PEP_COUNT_THR_1', 'REL_ADVERS_COUNT_THR_1', 'REL_PEPS_COUNT_THR_1']\n"
   ]
  },
  {
   "cell_type": "code",
   "execution_count": null,
   "metadata": {},
   "outputs": [],
   "source": [
    "# 將Y/N轉換為1/0以方便後面模型執行計算\n",
    "for col in X_Categorical:\n",
    "    OBU[col] = LabelEncoder().fit_transform(OBU[col])"
   ]
  },
  {
   "cell_type": "markdown",
   "metadata": {},
   "source": [
    "##### 2.2 順序型變數"
   ]
  },
  {
   "cell_type": "code",
   "execution_count": 12,
   "metadata": {},
   "outputs": [],
   "source": [
    "# EY補充\n",
    "# 新增欄位的情況下，將順序型變數轉換為數字順序(1, 2, 3,...)。\n",
    "# 下面範例將以df代表輸入資料，NEW_COLUMN代表新增欄位\n",
    "# \n",
    "# 範例一\n",
    "# 新增欄位的資料內容為[\"L\", \"M\", \"H\", Nan, ..., \"H\"]；欲將H/M/L轉換為3/2/1，空值(Nan)轉換為1。\n",
    "# df[\"NEW_COLUMN\"] = df[\"NEW_COLUMN\"].map({\"H\": \"3\", \"M\": \"2\", \"L\": \"1\"}).fillna(\"1\")\n",
    "\n",
    "\n",
    "# 順序型變數轉換\n",
    "# Remember that changing NA value into the lowest ranking in ordinal variables might cause issue and affect the model performation\n",
    "# It should be adjusted to dummy variables in the second proposal.\n",
    "\n",
    "# CMFCUS1_BUSINESS_CODE\n",
    "BUSINESS_CODE_TABLE = pd.read_csv(r\"/home/bigdata93601/DB Result/BUSINESS_CODE_TABLE.csv\", dtype=str) #行業編號對照風險等級表\n",
    "\n",
    "# Create dictionary\n",
    "BUSINESS_CODE_dict = {'L': BUSINESS_CODE_TABLE[BUSINESS_CODE_TABLE['RISK']=='L']['CODE'].tolist(),\n",
    "                      'M': BUSINESS_CODE_TABLE[BUSINESS_CODE_TABLE['RISK']=='M']['CODE'].tolist(),\n",
    "                      'H': BUSINESS_CODE_TABLE[BUSINESS_CODE_TABLE['RISK']=='H']['CODE'].tolist()}\n",
    "# Inverse dictionary\n",
    "BUSINESS_CODE_dict = {c: r for r, code in BUSINESS_CODE_dict.items() for c in code}\n",
    "\n",
    "OBU['CMFCUS1_BUSINESS_CODE'].replace(BUSINESS_CODE_dict, inplace=True)\n",
    "# Nan轉為L\n",
    "OBU['CMFCUS1_BUSINESS_CODE'] = np.where(~OBU[\"CMFCUS1_BUSINESS_CODE\"].isin(['H', 'M', 'L']), 'L', OBU['CMFCUS1_BUSINESS_CODE'])\n",
    "OBU['CMFCUS1_BUSINESS_CODE'] = OBU['CMFCUS1_BUSINESS_CODE'].map({\"H\": \"3\", \"M\": \"2\", \"L\": \"1\"})\n",
    "\n",
    "\n",
    "# LOCATION_CD & HEAD_OFFICE_CD \n",
    "# Create a new column: Nation_Risk to select the higher one between the two columns\n",
    "NationRisk_Table = pd.read_excel(r\"/home/bigdata93601/EY/NationRisk_Table.xlsx\", dtype=str)\n",
    "\n",
    "NationRisk_dict = {'1':NationRisk_Table[NationRisk_Table['洗錢風險評等']=='L']['國家代碼'].tolist(),\n",
    "                   '2': NationRisk_Table[NationRisk_Table['洗錢風險評等']=='ML']['國家代碼'].tolist(),\n",
    "                   '3': NationRisk_Table[NationRisk_Table['洗錢風險評等']=='M']['國家代碼'].tolist(),\n",
    "                   '4': NationRisk_Table[NationRisk_Table['洗錢風險評等']=='MH']['國家代碼'].tolist(),\n",
    "                   '5': NationRisk_Table[NationRisk_Table['洗錢風險評等']=='H']['國家代碼'].tolist()}\n",
    "\n",
    "# Inverse dictionary\n",
    "NationRisk_dict = {c: r for r, code in NationRisk_dict.items() for c in code}\n",
    "\n",
    "OBU['LOCATION_CD'].replace(NationRisk_dict, inplace=True)\n",
    "OBU['HEAD_OFFICE_CD'].replace(NationRisk_dict, inplace=True)\n",
    "# Nan or no matching 轉為H\n",
    "OBU['LOCATION_CD'] = np.where(~OBU['LOCATION_CD'].isin(['1', '2', '3', '4', '5']), '5', OBU['LOCATION_CD'])\n",
    "OBU['HEAD_OFFICE_CD'] = np.where(~OBU['HEAD_OFFICE_CD'].isin(['1', '2', '3', '4', '5']), '5', OBU['HEAD_OFFICE_CD'])\n",
    "\n",
    "OBU['NATION_RISK'] = OBU[['LOCATION_CD', 'HEAD_OFFICE_CD']].max(axis=1).astype(int).astype(str)\n",
    "\n",
    "# AMT_RANGE\n",
    "# Nan 轉為0\n",
    "OBU['AMT_RANGE'] = np.where(~OBU[\"AMT_RANGE\"].isin(['1', '2', '3']), '0', OBU['AMT_RANGE'])\n",
    "\n",
    "# OBU_ANNUAL_INCOME\n",
    "# Nan 轉為0\n",
    "OBU['OBU_ANNUAL_INCOME'] = np.where(~OBU[\"OBU_ANNUAL_INCOME\"].isin(['1', '2', '3']), '0', OBU['OBU_ANNUAL_INCOME'])\n",
    "\n",
    "# CMFCUS25_SP_RATING\n",
    "OBU['CMFCUS25_SP_RATING'] = OBU['CMFCUS25_SP_RATING'].map({np.nan: 1, 'D': 2, 'SD': 3, 'R': 4, 'CCC-': 5, 'CCC': 6, \n",
    "                                                           'CCC+': 7, 'B-': 8, 'B': 9, 'B+': 10, 'BB-': 11, 'BB': 12, \n",
    "                                                           'BB+': 13, 'BBB-': 14, 'BBB': 15, 'BBB+': 16, 'A-': 17, \n",
    "                                                           'A': 18, 'A+': 19, 'AA-': 20, 'AA': 21, 'AA+': 22, 'AAA': 23})\n",
    "\n",
    "# CMFCUS25_MOODYS_RATING\n",
    "# Moody's has assigned (P)A1 ratings to the 1 billion preferred securities shelf registration of five Travelers Capital trusts\n",
    "# Here I'll take it as the same level with A1\n",
    "OBU['CMFCUS25_MOODYS_RATING'] = np.where(OBU['CMFCUS25_MOODYS_RATING'] == '(P)A1', 'A1', OBU['CMFCUS25_MOODYS_RATING'])\n",
    "\n",
    "OBU['CMFCUS25_MOODYS_RATING'] = np.where(OBU['CMFCUS25_MOODYS_RATING'] == 'A3-', 'A3', OBU['CMFCUS25_MOODYS_RATING']) #Fix typo\n",
    "\n",
    "OBU['CMFCUS25_MOODYS_RATING'] = OBU['CMFCUS25_MOODYS_RATING'].map({np.nan: 1, 'D': 2, 'C': 3, 'Ca': 4, 'Caa3': 5, 'Caa2': 6, \n",
    "                                                                   'Caa1': 7, 'B3': 8, 'B2': 9, 'B1': 10, 'Ba3': 11, 'Ba2': 12, \n",
    "                                                                   'Ba1': 13, 'Baa3': 14, 'Baa2': 15, 'Baa1': 16, 'A3': 17, \n",
    "                                                                   'A2': 18, 'A1': 19, 'Aa3': 20, 'Aa2': 21, 'Aa1': 22, 'Aaa': 23})\n",
    "\n",
    "# CMFCUS25_SRT_SP_RATING\n",
    "OBU['CMFCUS25_SRT_SP_RATING'] = OBU['CMFCUS25_SRT_SP_RATING'].map({np.nan: 1, 'D': 2, 'C': 3, 'B': 4, 'A-3': 5, \n",
    "                                                                   'A-2': 6, 'A-1': 7, 'A-1+': 8})\n",
    "\n",
    "# CMFCUS25_SRT_MOODYS_RATING\n",
    "OBU['CMFCUS25_SRT_MOODYS_RATING'] = OBU['CMFCUS25_SRT_MOODYS_RATING'].map({np.nan: 1, 'P-3': 2, 'P-2': 3, 'P-1': 4})\n",
    "\n",
    "# CMFCUS25_SRT_FITCH_RATING\n",
    "OBU['CMFCUS25_SRT_FITCH_RATING'] = np.where(OBU['CMFCUS25_SRT_FITCH_RATING'] == 'F2-', 'F2', OBU['CMFCUS25_SRT_FITCH_RATING']) #Fix typo\n",
    "\n",
    "OBU['CMFCUS25_SRT_FITCH_RATING'] = OBU['CMFCUS25_SRT_FITCH_RATING'].map({np.nan: 1, 'D': 2, 'C': 3, 'B': 4, 'F3': 5, \n",
    "                                                                         'F2': 6, 'F1': 7, 'F1+': 8})\n",
    "\n",
    "# 順序型變數名錄\n",
    "X_Ordinal = ['CMFCUS1_BUSINESS_CODE', 'NATION_RISK', 'AMT_RANGE', \n",
    "             'OBU_ANNUAL_INCOME', 'CMFCUS25_SP_RATING', 'CMFCUS25_MOODYS_RATING', \n",
    "             'CMFCUS25_SRT_SP_RATING', 'CMFCUS25_SRT_MOODYS_RATING', 'CMFCUS25_SRT_FITCH_RATING']\n"
   ]
  },
  {
   "cell_type": "markdown",
   "metadata": {},
   "source": [
    "##### 2.3 啞變數(Dummy)"
   ]
  },
  {
   "cell_type": "code",
   "execution_count": 16,
   "metadata": {},
   "outputs": [],
   "source": [
    "# EY補充\n",
    "# 新增欄位的情況下，確認啞變數資料內容。\n",
    "# 此階段僅需確保啞變數內容正確，one hot encoding的部分會在後面執行。\n",
    "# 需要注意的地方為若欲將空值作為一個單獨的類別，則建議將空值轉換為字串(EX: \"NA_TYPE\")。\n",
    "#\n",
    "# 下面範例將以df代表輸入資料，NEW_COLUMN代表新增欄位\n",
    "#\n",
    "# 範例一\n",
    "# 新增欄位的資料內容為[\"A\", \"C\", \"1\", \"3\", Nan,..., Nan]；欲將空值(Nan)轉換為\"NA_TYPE\"，其餘內容保持不變。\n",
    "# df[\"NEW_COLUMN\"] = np.where(df[\"NEW_COLUMN\"].isna(), \"NA_TYPE\", df[\"NEW_COLUMN\"])\n",
    "#\n",
    "# 範例二\n",
    "# 新增欄位的資料內容為[\"A\", \"C\", \"B\", \"DELAY\", \"Q\", Nan, ..., \"A\"]；欲將A, B, C, Q保留，其餘內容分類為空值類別。\n",
    "# df[\"NEW_COLUMN\"] = np.where(df[\"NEW_COLUMN\"].isin([\"A\", \"B\", \"C\", \"Q\"]), df[\"NEW_COLUMN\"], \"NA_TYPE\")\n",
    "\n",
    "\n",
    "# Dummy變數轉換\n",
    "\n",
    "# CMFCUS1_BIRTH_DATE\n",
    "OBU['CMFCUS1_BIRTH_DATE'] = pd.to_datetime(OBU['CMFCUS1_BIRTH_DATE'], errors='coerce') #if out of bounds then return NAT\n",
    "\n",
    "def calculate_age(born):\n",
    "    today = date.today()\n",
    "    return today.year - born.year - ((today.month, today.day) < (born.month, born.day))\n",
    "\n",
    "OBU['CMFCUS1_BIRTH_DATE'] = OBU['CMFCUS1_BIRTH_DATE'].apply(calculate_age)\n",
    "\n",
    "def apply_age(Series):\n",
    "    input = Series\n",
    "    if input < 3:\n",
    "        return '0-3'\n",
    "    elif (input >= 3) & (input < 5):\n",
    "        return '3-5'\n",
    "    elif (input >= 5) & (input < 10):\n",
    "        return '5-10'\n",
    "    elif input >= 10:\n",
    "        return '>10'\n",
    "    else:\n",
    "        'NA_TYPE'\n",
    "\n",
    "OBU['CMFCUS1_BIRTH_DATE'] = OBU['CMFCUS1_BIRTH_DATE'].apply(apply_age)\n",
    "\n",
    "\n",
    "# CMFCUS1_Q_ID\n",
    "# 00, 01, 03, 10, 36, 49, 99都歸於NA_TYPE\n",
    "OBU['CMFCUS1_Q_ID'] = np.where(OBU[\"CMFCUS1_Q_ID\"].isin(['00', '01', '03', '10', '36', '49', '99', 'ZZ', np.nan]), \n",
    "                               'NA_TYPE', OBU[\"CMFCUS1_Q_ID\"])\n",
    "\n",
    "# CMFCUS1_PURPOSE, CMFCUS1_DERIVATIVE, CMFCUS1_TITLE_CODE, LN_TYP, CONFIRM_TYPE, CMFCUS25_BRANCH\n",
    "# NA改成NA_TYPE\n",
    "for i  in ['CMFCUS1_JOB_TITLE', 'CMFCUS1_PURPOSE', 'CMFCUS1_DERIVATIVE', 'CMFCUS1_TITLE_CODE', 'LN_TYP', 'CONFIRM_TYPE', 'CMFCUS25_BRANCH', 'CMFCUS25_FORE_CASH_FLAG']:\n",
    "    OBU[i] =np.where(OBU[i].isna(), 'NA_TYPE', OBU[i])\n",
    "\n",
    "# CORP_TYPE\n",
    "# 根據兆豐回覆: 共12類\n",
    "# 1~9, A, Z, Nan: NA_TYPE\n",
    "\n",
    "OBU['CORP_TYPE'] = np.where(OBU['CORP_TYPE'].isin(['1', '2', '3', '4', '5', '6', '7', '8', '9', 'Z', 'A']), OBU['CORP_TYPE'], 'NA_TYPE')\n",
    "\n",
    "\n",
    "# Dummy變數名錄\n",
    "X_Dummy = ['CMFCUS1_BIRTH_DATE', 'CMFCUS1_JOB_TITLE', 'CMFCUS1_Q_ID','CMFCUS1_PURPOSE', 'CMFCUS1_DERIVATIVE', 'CMFCUS1_TITLE_CODE', \n",
    "           'CUST_TYP', 'LN_TYP', 'CONFIRM_TYPE', 'CORP_TYPE', 'CMFCUS25_BRANCH', 'CMFCUS25_FORE_CASH_FLAG', 'CHANNEL']\n"
   ]
  },
  {
   "cell_type": "markdown",
   "metadata": {},
   "source": [
    "#### 3. Variable Selection(變數篩選)"
   ]
  },
  {
   "cell_type": "markdown",
   "metadata": {},
   "source": [
    "##### 3.1 WOE & IV"
   ]
  },
  {
   "cell_type": "code",
   "execution_count": 17,
   "metadata": {},
   "outputs": [
    {
     "name": "stderr",
     "output_type": "stream",
     "text": [
      "/opt/microsoft/mlserver/9.4.7/runtime/python/lib/python3.7/site-packages/ipykernel_launcher.py:42: SettingWithCopyWarning: \n",
      "A value is trying to be set on a copy of a slice from a DataFrame.\n",
      "Try using .loc[row_indexer,col_indexer] = value instead\n",
      "\n",
      "See the caveats in the documentation: http://pandas.pydata.org/pandas-docs/stable/indexing.html#indexing-view-versus-copy\n"
     ]
    }
   ],
   "source": [
    "#變數篩選：計算 WOE & Information Value\n",
    "# Python has no package calculating WOE & IV\n",
    "\n",
    "def iv_woe(data, target, bins=10, show_woe=False):\n",
    "    \n",
    "    # Empty Dataframe\n",
    "    newDF, woeDF = pd.DataFrame(), pd.DataFrame()\n",
    "    \n",
    "    # Extract Column Names\n",
    "    cols = data.columns\n",
    "    \n",
    "    # Run WOE & IV on all X variables\n",
    "    for ivars in cols[~cols.isin([target])]:\n",
    "        if (data[ivars].dtype.kind in 'bifc') & (len(np.unique(data[ivars])) > 10):\n",
    "            binned_x = pd.qcut(data[ivars], bins, duplicates='drop')\n",
    "            d0 = pd.DataFrame({'x': binned_x, 'y': data[target]})\n",
    "        else:\n",
    "            d0 = pd.DataFrame({'x': data[ivars], 'y': data[target]})\n",
    "        \n",
    "        d = d0.groupby('x', as_index=False).agg({'y': ['count', 'sum']})\n",
    "        d.columns = ['Cutoff', 'N', 'Events']\n",
    "        d['% of Events'] = np.maximum(d['Events'], 0.5) / d['Events'].sum()\n",
    "        d['Non-Events'] = d['N'] - d['Events']\n",
    "        d['% of Non-Events'] = np.maximum(d['Non-Events'], 0.5) / d['Non-Events'].sum()\n",
    "        d['WoE'] = np.log(d['% of Events'] / d['% of Non-Events'])\n",
    "        d['IV'] = d['WoE'] * (d['% of Events'] - d['% of Non-Events'])\n",
    "        d.insert(loc=0, column='Variable', value=ivars)\n",
    "        #print(\"Information value of \" + ivars + \" is \" + str(round(d['IV'].sum(), 6)))\n",
    "        \n",
    "        temp = pd.DataFrame({\"Variable\": [ivars], \"IV\": [d['IV'].sum()]}, columns=[\"Variable\", \"IV\"])\n",
    "        newDF = pd.concat([newDF, temp], axis=0)\n",
    "        woeDF = pd.concat([woeDF, d], axis=0)\n",
    "        \n",
    "        # Show WOE Table\n",
    "        if show_woe == True:\n",
    "            print(d)\n",
    "    return newDF, woeDF\n",
    "\n",
    "\n",
    "data = OBU[X_Categorical + X_Ordinal + X_Dummy + ['SAR']]\n",
    "data['SAR'] = LabelEncoder().fit_transform(data['SAR']) # Turn y into [0, 1]\n",
    "# 轉換dummy變數\n",
    "for each in X_Dummy:\n",
    "    dummies = pd.get_dummies(data.loc[:, each], prefix=each)\n",
    "    data = pd.concat([data, dummies], axis=1)\n",
    "\n",
    "# Delete original dummy variable columns\n",
    "data = data.drop(X_Dummy, axis=1)\n",
    "\n",
    "iv, woe = iv_woe(data=data, target='SAR', bins=10, show_woe=False)"
   ]
  },
  {
   "cell_type": "code",
   "execution_count": 18,
   "metadata": {},
   "outputs": [
    {
     "name": "stdout",
     "output_type": "stream",
     "text": [
      "                  Variable        IV\n",
      "0    CMFCUS1_FINANCIAL_ACT  0.621225\n",
      "0                    LN_FG  0.129267\n",
      "0                    IX_FG  0.626912\n",
      "0                    EB_FG  0.165231\n",
      "0               CONFIRM_YN  0.885339\n",
      "0               CUST_THIRD  0.161200\n",
      "0      CMFCUS25_CERTI_FLAG  0.343966\n",
      "0                AMT_RANGE  0.784333\n",
      "0        OBU_ANNUAL_INCOME  0.449471\n",
      "0        CMFCUS1_PURPOSE_E  0.120352\n",
      "0  CMFCUS1_PURPOSE_NA_TYPE  0.405848\n",
      "0           LN_TYP_NA_TYPE  0.135056\n",
      "0           CONFIRM_TYPE_1  0.706230\n",
      "0     CONFIRM_TYPE_NA_TYPE  0.885339\n",
      "0              CORP_TYPE_4  0.144603\n",
      "0        CORP_TYPE_NA_TYPE  0.643870\n",
      "0              CORP_TYPE_Z  0.897411\n",
      "0        CMFCUS25_BRANCH_0  0.592172\n",
      "0  CMFCUS25_BRANCH_NA_TYPE  0.680475\n"
     ]
    }
   ],
   "source": [
    "# 篩選 IV值大於0.1之變數\n",
    "# 0.02-0.1: the predictor has only a weak relationship to the Goods/Bads odds ration\n",
    "# 0.1-0.3: the predictor has a medium strength relationship to the Goods/Bads odds ration\n",
    "# 0.3-0.5: the predictor has a strong relationship to the Goods/Bads odds ration\n",
    "# >0.5: suspicious relationship\n",
    "\n",
    "# Select variable with IV larger than 0.1 \n",
    "print(iv[iv[\"IV\"] > 0.1])"
   ]
  },
  {
   "cell_type": "markdown",
   "metadata": {},
   "source": [
    "##### 3.2 VIF"
   ]
  },
  {
   "cell_type": "code",
   "execution_count": null,
   "metadata": {},
   "outputs": [],
   "source": [
    "# 紀錄因法遵考量需移除之變數\n",
    "'''\n",
    "CMFCUS1_Q_ID_4: 持居留證之外國人 不應存在\n",
    "CMFCUS1_PURPOSE_NA_TYPE 若有選中須從模型移除\n",
    "CONFIRM_TYPE_1 若有選中須從模型移除\n",
    "LN_TYPE_NA_TYPE 若有選中須從模型移除\n",
    "'''"
   ]
  },
  {
   "cell_type": "code",
   "execution_count": 19,
   "metadata": {},
   "outputs": [
    {
     "name": "stdout",
     "output_type": "stream",
     "text": [
      "                 feature       VIF\n",
      "0  CMFCUS1_FINANCIAL_ACT  4.084259\n",
      "1                  LN_FG  1.725055\n",
      "2                  IX_FG  1.566215\n",
      "3                  EB_FG  2.453816\n",
      "4             CUST_THIRD  1.002725\n",
      "5              AMT_RANGE  6.208523\n",
      "6      OBU_ANNUAL_INCOME  4.695757\n",
      "7      CMFCUS1_PURPOSE_E  1.323823\n",
      "8            CORP_TYPE_4  1.203111\n"
     ]
    }
   ],
   "source": [
    "# 變數篩選：計算共線性，移除VIF大於10之變數\n",
    "# check IV > 0.1 variables VIF\n",
    "from statsmodels.stats.outliers_influence import variance_inflation_factor\n",
    "\n",
    "# Variables with VIF over 10 should be checked \n",
    "# Drop some columns with high VIF(The variables are changeable to find the best answer) \n",
    "X_trans = data[pd.Series.tolist(iv.loc[iv['IV'] >= 0.1, 'Variable'])]\n",
    "\n",
    "# EY補充\n",
    "# 下面Code會先選擇移除不適用於分析之欄位\n",
    "# 透過移除/新增欄位名稱即可進行修改\n",
    "X_trans = X_trans.drop(['CONFIRM_YN', 'CONFIRM_TYPE_NA_TYPE', 'LN_TYP_NA_TYPE', 'CONFIRM_TYPE_1', 'CMFCUS1_PURPOSE_NA_TYPE',\n",
    "                        'CORP_TYPE_NA_TYPE', 'CMFCUS25_BRANCH_NA_TYPE', 'CORP_TYPE_Z', \n",
    "                        'CMFCUS25_BRANCH_0', 'CMFCUS25_CERTI_FLAG'], axis=1)\n",
    "\n",
    "# The calculating VIF function does not accept columns with string type\n",
    "for col in X_trans.columns:\n",
    "    X_trans.loc[:, col] = pd.to_numeric(X_trans[col])\n",
    "\n",
    "\n",
    "vif_data = pd.DataFrame()\n",
    "vif_data.loc[:, 'feature'] = X_trans.columns\n",
    "\n",
    "# Calculating VIF for each feature\n",
    "vif_data.loc[:, 'VIF'] = [variance_inflation_factor(X_trans.values, i) for i in range(len(X_trans.columns))]\n",
    "print(vif_data)"
   ]
  },
  {
   "cell_type": "markdown",
   "metadata": {},
   "source": [
    "##### 3.3 Final Variable Selection"
   ]
  },
  {
   "cell_type": "code",
   "execution_count": 20,
   "metadata": {},
   "outputs": [],
   "source": [
    "# Final Variables\n",
    "X_col = X_trans.columns\n",
    "X_col = X_col.tolist()"
   ]
  },
  {
   "cell_type": "markdown",
   "metadata": {},
   "source": [
    "#### 4. 模型建立\n",
    "因資料型態為非均衡資料(imbalance)，因此需要修改資料之權重"
   ]
  },
  {
   "cell_type": "code",
   "execution_count": 21,
   "metadata": {},
   "outputs": [],
   "source": [
    "# 額外創建因變數(X) & 應變數(Y)供模型建立\n",
    "X = OBU\n",
    "\n",
    "# 轉換dummy變數\n",
    "for each in X_Dummy:\n",
    "    dummies = pd.get_dummies(X.loc[:, each], prefix=each)\n",
    "    X = pd.concat([X, dummies], axis=1)\n",
    "\n",
    "y = X['SAR']\n",
    "# Select Final Columns\n",
    "X = X[X_col]\n"
   ]
  },
  {
   "cell_type": "markdown",
   "metadata": {},
   "source": [
    "##### 4.1 Cross-Validation"
   ]
  },
  {
   "cell_type": "code",
   "execution_count": 23,
   "metadata": {},
   "outputs": [
    {
     "name": "stdout",
     "output_type": "stream",
     "text": [
      "[0.66379805 0.717934   0.73823192 0.69058553 0.69517796]\n"
     ]
    }
   ],
   "source": [
    "# 使用K-fold測試模型之穩定度\n",
    "logistic_regression = LogisticRegression(solver='liblinear', class_weight='balanced')\n",
    "skf = StratifiedKFold(n_splits=5, shuffle=True, random_state=2)\n",
    "print(cross_val_score(logistic_regression, X, y, cv=skf))\n",
    "\n",
    "print('------------------------------------------------------------')\n",
    "# 檢查Confidence Interval on AUC\n",
    "auc_scores = cross_val_score(logistic_regression, X, y, cv=skf, scoring='roc_auc')\n",
    "print(auc_scores)\n",
    "print(\"AUC Confidence Interval: %0.2f (+/- %0.2f)\" % (auc_scores.mean(), auc_scores.std() * 1.96))"
   ]
  },
  {
   "cell_type": "markdown",
   "metadata": {},
   "source": [
    "##### 4.2 Model Training"
   ]
  },
  {
   "cell_type": "code",
   "execution_count": 24,
   "metadata": {},
   "outputs": [
    {
     "name": "stdout",
     "output_type": "stream",
     "text": [
      "FINAL_CRR  SAR\n",
      "H          N      0.376238\n",
      "           Y      0.622107\n",
      "L          N      0.342449\n",
      "M          N      0.340560\n",
      "Name: pred_proba, dtype: float64\n",
      "FINAL_CRR  SAR\n",
      "H          N      0.362459\n",
      "           Y      0.566539\n",
      "L          N      0.293203\n",
      "M          N      0.346001\n",
      "Name: pred_proba, dtype: float64\n",
      "FINAL_CRR  SAR\n",
      "H          N      0.370579\n",
      "           Y      0.565787\n",
      "L          N      0.299226\n",
      "M          N      0.339204\n",
      "Name: pred_proba, dtype: float64\n",
      "FINAL_CRR  SAR\n",
      "H          N      0.377086\n",
      "           Y      0.627094\n",
      "L          N      0.329356\n",
      "M          N      0.358450\n",
      "Name: pred_proba, dtype: float64\n",
      "FINAL_CRR  SAR\n",
      "H          N      0.370007\n",
      "           Y      0.615004\n",
      "L          N      0.317765\n",
      "M          N      0.354123\n",
      "Name: pred_proba, dtype: float64\n"
     ]
    }
   ],
   "source": [
    "# 模型結果檢視(Presentation)\n",
    "logistic_regression = LogisticRegression(solver='liblinear', class_weight='balanced')\n",
    "for train_index, test_index in skf.split(X, y):\n",
    "    X_train, X_test = X.iloc[train_index], X.iloc[test_index]\n",
    "    y_train, y_test = y.iloc[train_index], y.iloc[test_index]\n",
    "    logistic_regression.fit(X_train, y_train)\n",
    "    \n",
    "    # Record Predict Outcome\n",
    "    OBU.loc[test_index, 'pred'] = logistic_regression.predict(X_test)\n",
    "    # Record Probability\n",
    "    OBU.loc[test_index, 'pred_proba'] = logistic_regression.predict_proba(X_test)[:, 1].astype(float)\n",
    "    print(OBU.iloc[test_index].groupby(['FINAL_CRR', 'SAR'])['pred_proba'].mean())"
   ]
  },
  {
   "cell_type": "code",
   "execution_count": 25,
   "metadata": {},
   "outputs": [
    {
     "name": "stdout",
     "output_type": "stream",
     "text": [
      "FINAL_CRR\n",
      "H    0.383159\n",
      "L    0.342449\n",
      "M    0.340560\n",
      "Name: pred_proba, dtype: float64\n",
      "FINAL_CRR\n",
      "H    0.368032\n",
      "L    0.293203\n",
      "M    0.346001\n",
      "Name: pred_proba, dtype: float64\n",
      "FINAL_CRR\n",
      "H    0.375950\n",
      "L    0.299226\n",
      "M    0.339204\n",
      "Name: pred_proba, dtype: float64\n",
      "FINAL_CRR\n",
      "H    0.383964\n",
      "L    0.329356\n",
      "M    0.358450\n",
      "Name: pred_proba, dtype: float64\n",
      "FINAL_CRR\n",
      "H    0.377135\n",
      "L    0.317765\n",
      "M    0.354123\n",
      "Name: pred_proba, dtype: float64\n"
     ]
    }
   ],
   "source": [
    "# 模型結果檢視(Presentation)\n",
    "logistic_regression = LogisticRegression(solver='liblinear', class_weight='balanced')\n",
    "for train_index, test_index in skf.split(X, y):\n",
    "    X_train, X_test = X.iloc[train_index], X.iloc[test_index]\n",
    "    y_train, y_test = y.iloc[train_index], y.iloc[test_index]\n",
    "    logistic_regression.fit(X_train, y_train)\n",
    "    \n",
    "    # Record Predict Outcome\n",
    "    OBU.loc[test_index, 'pred'] = logistic_regression.predict(X_test)\n",
    "    # Record Probability\n",
    "    OBU.loc[test_index, 'pred_proba'] = logistic_regression.predict_proba(X_test)[:, 1].astype(float)\n",
    "    print(OBU.iloc[test_index].groupby(['FINAL_CRR'])['pred_proba'].mean())"
   ]
  },
  {
   "cell_type": "code",
   "execution_count": 26,
   "metadata": {},
   "outputs": [
    {
     "data": {
      "text/plain": [
       "[0.25, 0.5)    6055\n",
       "[0.0, 0.25)    6043\n",
       "[0.5, inf)     5325\n",
       "Name: pred_proba, dtype: int64"
      ]
     },
     "execution_count": 26,
     "metadata": {},
     "output_type": "execute_result"
    }
   ],
   "source": [
    "# 模型結果檢視(Presentation)\n",
    "bins = [0, 0.25, 0.5, np.inf]\n",
    "\n",
    "pd.cut(OBU['pred_proba'], bins, right=False).value_counts()"
   ]
  },
  {
   "cell_type": "code",
   "execution_count": 27,
   "metadata": {},
   "outputs": [
    {
     "data": {
      "text/plain": [
       "FINAL_CRR  pd_cut     \n",
       "H          [0.0, 0.25)    2434\n",
       "           [0.25, 0.5)    2651\n",
       "           [0.5, inf)     2257\n",
       "L          [0.0, 0.25)     365\n",
       "           [0.25, 0.5)     299\n",
       "           [0.5, inf)      198\n",
       "M          [0.0, 0.25)    3000\n",
       "           [0.25, 0.5)    2602\n",
       "           [0.5, inf)     2173\n",
       "Name: pd_cut, dtype: int64"
      ]
     },
     "execution_count": 27,
     "metadata": {},
     "output_type": "execute_result"
    }
   ],
   "source": [
    "# 模型結果檢視(Presentation)\n",
    "OBU['pd_cut'] = pd.cut(OBU['pred_proba'], bins, right=False)\n",
    "OBU.groupby(['FINAL_CRR', 'pd_cut'])['pd_cut'].count()"
   ]
  },
  {
   "cell_type": "markdown",
   "metadata": {},
   "source": [
    "##### 4.3 模型指標確認"
   ]
  },
  {
   "cell_type": "code",
   "execution_count": 28,
   "metadata": {},
   "outputs": [
    {
     "name": "stdout",
     "output_type": "stream",
     "text": [
      "Accuracy:  0.7011421683980945\n"
     ]
    },
    {
     "data": {
      "image/png": "[encoded data removed]",
      "text/plain": [
       "<Figure size 432x288 with 2 Axes>"
      ]
     },
     "metadata": {
      "needs_background": "light"
     },
     "output_type": "display_data"
    },
    {
     "name": "stdout",
     "output_type": "stream",
     "text": [
      "Recall Score:  0.7218045112781954\n",
      "Precision Score:  0.036056338028169016\n",
      "Area Under Curve:  0.7851915809807786\n"
     ]
    },
    {
     "data": {
      "image/png": "[encoded data removed]",
      "text/plain": [
       "<Figure size 432x288 with 1 Axes>"
      ]
     },
     "metadata": {
      "needs_background": "light"
     },
     "output_type": "display_data"
    }
   ],
   "source": [
    "# 模型指標檢視：Accuracy, Recall, AUC\n",
    "confusion_matrix = pd.crosstab(OBU['SAR'], OBU['pred'], rownames=['Actual'], \n",
    "                              colnames=['Predicted'])\n",
    "sn.heatmap(confusion_matrix, annot=True)\n",
    "print('Accuracy: ', metrics.accuracy_score(OBU['SAR'], OBU['pred']))\n",
    "plt.show()\n",
    "\n",
    "recall_score = metrics.recall_score(OBU['SAR'], OBU['pred'], pos_label='Y')\n",
    "precision_score = metrics.precision_score(OBU['SAR'], OBU['pred'], pos_label='Y')\n",
    "print('Recall Score: ', recall_score)\n",
    "print('Precision Score: ', precision_score)\n",
    "\n",
    "\n",
    "print('Area Under Curve: ', roc_auc_score(OBU['SAR'], OBU['pred_proba']))\n",
    "\n",
    "fpr, tpr, threshold = metrics.roc_curve(OBU['SAR'], OBU['pred_proba'], pos_label='Y')\n",
    "roc_auc = metrics.auc(fpr, tpr)\n",
    "\n",
    "plt.title('Receiver Operating Characteristic')\n",
    "plt.plot(fpr, tpr, 'b', label='ROC Curve (AUC = %0.2f)' % roc_auc)\n",
    "plt.legend(loc='lower right')\n",
    "plt.plot([0,1], [0,1], 'r--')\n",
    "plt.xlim([0, 1])\n",
    "plt.ylim([0, 1])\n",
    "plt.ylabel('True Positive Rate')\n",
    "plt.xlabel('False Positive Rate')\n",
    "plt.show()"
   ]
  },
  {
   "cell_type": "markdown",
   "metadata": {},
   "source": [
    "##### 4.4 部分資料跑模型，確認變數係數"
   ]
  },
  {
   "cell_type": "code",
   "execution_count": 29,
   "metadata": {},
   "outputs": [],
   "source": [
    "X_train, X_test, y_train, y_test = train_test_split(X, y, test_size=0.2, random_state=2, stratify=y)\n",
    "\n",
    "# class_weight='balanced'\n",
    "logistic_regression = LogisticRegression(solver='liblinear', class_weight='balanced')\n",
    "logistic_regression.fit(X_train, y_train)\n",
    "y_pred=logistic_regression.predict(X_test)"
   ]
  },
  {
   "cell_type": "code",
   "execution_count": 31,
   "metadata": {},
   "outputs": [
    {
     "name": "stdout",
     "output_type": "stream",
     "text": [
      "Intercept:  [-2.87366357] \n",
      "\n",
      "CMFCUS1_FINANCIAL_ACT :  1.8574566235762429\n",
      "LN_FG :  -0.08531456351807098\n",
      "IX_FG :  1.1507215623472813\n",
      "EB_FG :  -0.008709283102646131\n",
      "CUST_THIRD :  2.7587211972109795\n",
      "AMT_RANGE :  0.5496426335068026\n",
      "OBU_ANNUAL_INCOME :  -0.003895882292344012\n",
      "CMFCUS1_PURPOSE_E :  0.4925619339261829\n",
      "CORP_TYPE_4 :  -5.089889174459544\n",
      "----------------------------------\n"
     ]
    }
   ],
   "source": [
    "# Weights & Intercept\n",
    "print('Intercept: ', logistic_regression.intercept_, '\\n')\n",
    "\n",
    "for i in range(len(logistic_regression.coef_[0])):\n",
    "    print(X.columns[i], ': ', logistic_regression.coef_[0][i])\n",
    "print('----------------------------------')"
   ]
  },
  {
   "cell_type": "code",
   "execution_count": null,
   "metadata": {},
   "outputs": [],
   "source": []
  },
  {
   "cell_type": "code",
   "execution_count": null,
   "metadata": {},
   "outputs": [],
   "source": []
  },
  {
   "cell_type": "markdown",
   "metadata": {},
   "source": [
    "#### Appendix 1(提供變數預測能力之證明)"
   ]
  },
  {
   "cell_type": "code",
   "execution_count": null,
   "metadata": {},
   "outputs": [],
   "source": [
    "# EY補充\n",
    "# Appendix 1 主要為查看模型篩選之自變數與依變數在實際資料中的分佈\n",
    "# 若未來有想要查看新的自變數與依變數之關係，則僅需要修改變數名稱及確認檔案名稱\n",
    "# \n",
    "# 範例\n",
    "# df為此次使用DataFrame；新增之自變數欄位名稱為\"INDEPENDENT_VARIABLE\"；依變數欄位名稱為\"DEPENDENT_VARIABLE\"\n",
    "# pd.crosstab(df[\"DEPENDENT_VARIABLE\", df[\"INDEPENDENT_VARIABLE\"]])\n",
    "# 欄位位置可對調，不影響結果，只影響呈現順序。\n"
   ]
  },
  {
   "cell_type": "code",
   "execution_count": 32,
   "metadata": {},
   "outputs": [
    {
     "data": {
      "text/html": [
       "<div>\n",
       "<style scoped>\n",
       "    .dataframe tbody tr th:only-of-type {\n",
       "        vertical-align: middle;\n",
       "    }\n",
       "\n",
       "    .dataframe tbody tr th {\n",
       "        vertical-align: top;\n",
       "    }\n",
       "\n",
       "    .dataframe thead th {\n",
       "        text-align: right;\n",
       "    }\n",
       "</style>\n",
       "<table border=\"1\" class=\"dataframe\">\n",
       "  <thead>\n",
       "    <tr style=\"text-align: right;\">\n",
       "      <th>CMFCUS1_FINANCIAL_ACT</th>\n",
       "      <th>0</th>\n",
       "      <th>1</th>\n",
       "    </tr>\n",
       "    <tr>\n",
       "      <th>SAR</th>\n",
       "      <th></th>\n",
       "      <th></th>\n",
       "    </tr>\n",
       "  </thead>\n",
       "  <tbody>\n",
       "    <tr>\n",
       "      <th>N</th>\n",
       "      <td>3872</td>\n",
       "      <td>13285</td>\n",
       "    </tr>\n",
       "    <tr>\n",
       "      <th>Y</th>\n",
       "      <td>4</td>\n",
       "      <td>262</td>\n",
       "    </tr>\n",
       "  </tbody>\n",
       "</table>\n",
       "</div>"
      ],
      "text/plain": [
       "CMFCUS1_FINANCIAL_ACT     0      1\n",
       "SAR                               \n",
       "N                      3872  13285\n",
       "Y                         4    262"
      ]
     },
     "execution_count": 32,
     "metadata": {},
     "output_type": "execute_result"
    }
   ],
   "source": [
    "pd.crosstab(OBU['SAR'], OBU['CMFCUS1_FINANCIAL_ACT'])"
   ]
  },
  {
   "cell_type": "code",
   "execution_count": 33,
   "metadata": {},
   "outputs": [
    {
     "data": {
      "text/html": [
       "<div>\n",
       "<style scoped>\n",
       "    .dataframe tbody tr th:only-of-type {\n",
       "        vertical-align: middle;\n",
       "    }\n",
       "\n",
       "    .dataframe tbody tr th {\n",
       "        vertical-align: top;\n",
       "    }\n",
       "\n",
       "    .dataframe thead th {\n",
       "        text-align: right;\n",
       "    }\n",
       "</style>\n",
       "<table border=\"1\" class=\"dataframe\">\n",
       "  <thead>\n",
       "    <tr style=\"text-align: right;\">\n",
       "      <th>IX_FG</th>\n",
       "      <th>0</th>\n",
       "      <th>1</th>\n",
       "    </tr>\n",
       "    <tr>\n",
       "      <th>SAR</th>\n",
       "      <th></th>\n",
       "      <th></th>\n",
       "    </tr>\n",
       "  </thead>\n",
       "  <tbody>\n",
       "    <tr>\n",
       "      <th>N</th>\n",
       "      <td>14523</td>\n",
       "      <td>2634</td>\n",
       "    </tr>\n",
       "    <tr>\n",
       "      <th>Y</th>\n",
       "      <td>130</td>\n",
       "      <td>136</td>\n",
       "    </tr>\n",
       "  </tbody>\n",
       "</table>\n",
       "</div>"
      ],
      "text/plain": [
       "IX_FG      0     1\n",
       "SAR               \n",
       "N      14523  2634\n",
       "Y        130   136"
      ]
     },
     "execution_count": 33,
     "metadata": {},
     "output_type": "execute_result"
    }
   ],
   "source": [
    "pd.crosstab(OBU['SAR'], OBU['IX_FG'])"
   ]
  },
  {
   "cell_type": "code",
   "execution_count": 34,
   "metadata": {},
   "outputs": [
    {
     "data": {
      "text/html": [
       "<div>\n",
       "<style scoped>\n",
       "    .dataframe tbody tr th:only-of-type {\n",
       "        vertical-align: middle;\n",
       "    }\n",
       "\n",
       "    .dataframe tbody tr th {\n",
       "        vertical-align: top;\n",
       "    }\n",
       "\n",
       "    .dataframe thead th {\n",
       "        text-align: right;\n",
       "    }\n",
       "</style>\n",
       "<table border=\"1\" class=\"dataframe\">\n",
       "  <thead>\n",
       "    <tr style=\"text-align: right;\">\n",
       "      <th>EB_FG</th>\n",
       "      <th>0</th>\n",
       "      <th>1</th>\n",
       "    </tr>\n",
       "    <tr>\n",
       "      <th>SAR</th>\n",
       "      <th></th>\n",
       "      <th></th>\n",
       "    </tr>\n",
       "  </thead>\n",
       "  <tbody>\n",
       "    <tr>\n",
       "      <th>N</th>\n",
       "      <td>7831</td>\n",
       "      <td>9326</td>\n",
       "    </tr>\n",
       "    <tr>\n",
       "      <th>Y</th>\n",
       "      <td>70</td>\n",
       "      <td>196</td>\n",
       "    </tr>\n",
       "  </tbody>\n",
       "</table>\n",
       "</div>"
      ],
      "text/plain": [
       "EB_FG     0     1\n",
       "SAR              \n",
       "N      7831  9326\n",
       "Y        70   196"
      ]
     },
     "execution_count": 34,
     "metadata": {},
     "output_type": "execute_result"
    }
   ],
   "source": [
    "pd.crosstab(OBU['SAR'], OBU['EB_FG'])"
   ]
  },
  {
   "cell_type": "code",
   "execution_count": 35,
   "metadata": {},
   "outputs": [
    {
     "data": {
      "text/html": [
       "<div>\n",
       "<style scoped>\n",
       "    .dataframe tbody tr th:only-of-type {\n",
       "        vertical-align: middle;\n",
       "    }\n",
       "\n",
       "    .dataframe tbody tr th {\n",
       "        vertical-align: top;\n",
       "    }\n",
       "\n",
       "    .dataframe thead th {\n",
       "        text-align: right;\n",
       "    }\n",
       "</style>\n",
       "<table border=\"1\" class=\"dataframe\">\n",
       "  <thead>\n",
       "    <tr style=\"text-align: right;\">\n",
       "      <th>REL_ADVERS_COUNT_THR_1</th>\n",
       "      <th>0</th>\n",
       "      <th>1</th>\n",
       "    </tr>\n",
       "    <tr>\n",
       "      <th>SAR</th>\n",
       "      <th></th>\n",
       "      <th></th>\n",
       "    </tr>\n",
       "  </thead>\n",
       "  <tbody>\n",
       "    <tr>\n",
       "      <th>N</th>\n",
       "      <td>17121</td>\n",
       "      <td>36</td>\n",
       "    </tr>\n",
       "    <tr>\n",
       "      <th>Y</th>\n",
       "      <td>257</td>\n",
       "      <td>9</td>\n",
       "    </tr>\n",
       "  </tbody>\n",
       "</table>\n",
       "</div>"
      ],
      "text/plain": [
       "REL_ADVERS_COUNT_THR_1      0   1\n",
       "SAR                              \n",
       "N                       17121  36\n",
       "Y                         257   9"
      ]
     },
     "execution_count": 35,
     "metadata": {},
     "output_type": "execute_result"
    }
   ],
   "source": [
    "pd.crosstab(OBU['SAR'], OBU['REL_ADVERS_COUNT_THR_1'])"
   ]
  },
  {
   "cell_type": "code",
   "execution_count": 36,
   "metadata": {},
   "outputs": [
    {
     "data": {
      "text/html": [
       "<div>\n",
       "<style scoped>\n",
       "    .dataframe tbody tr th:only-of-type {\n",
       "        vertical-align: middle;\n",
       "    }\n",
       "\n",
       "    .dataframe tbody tr th {\n",
       "        vertical-align: top;\n",
       "    }\n",
       "\n",
       "    .dataframe thead th {\n",
       "        text-align: right;\n",
       "    }\n",
       "</style>\n",
       "<table border=\"1\" class=\"dataframe\">\n",
       "  <thead>\n",
       "    <tr style=\"text-align: right;\">\n",
       "      <th>AMT_RANGE</th>\n",
       "      <th>0</th>\n",
       "      <th>1</th>\n",
       "      <th>2</th>\n",
       "      <th>3</th>\n",
       "    </tr>\n",
       "    <tr>\n",
       "      <th>SAR</th>\n",
       "      <th></th>\n",
       "      <th></th>\n",
       "      <th></th>\n",
       "      <th></th>\n",
       "    </tr>\n",
       "  </thead>\n",
       "  <tbody>\n",
       "    <tr>\n",
       "      <th>N</th>\n",
       "      <td>5355</td>\n",
       "      <td>6293</td>\n",
       "      <td>4162</td>\n",
       "      <td>1347</td>\n",
       "    </tr>\n",
       "    <tr>\n",
       "      <th>Y</th>\n",
       "      <td>11</td>\n",
       "      <td>83</td>\n",
       "      <td>128</td>\n",
       "      <td>44</td>\n",
       "    </tr>\n",
       "  </tbody>\n",
       "</table>\n",
       "</div>"
      ],
      "text/plain": [
       "AMT_RANGE     0     1     2     3\n",
       "SAR                              \n",
       "N          5355  6293  4162  1347\n",
       "Y            11    83   128    44"
      ]
     },
     "execution_count": 36,
     "metadata": {},
     "output_type": "execute_result"
    }
   ],
   "source": [
    "pd.crosstab(OBU['SAR'], OBU['AMT_RANGE'])"
   ]
  },
  {
   "cell_type": "code",
   "execution_count": 37,
   "metadata": {},
   "outputs": [
    {
     "data": {
      "text/html": [
       "<div>\n",
       "<style scoped>\n",
       "    .dataframe tbody tr th:only-of-type {\n",
       "        vertical-align: middle;\n",
       "    }\n",
       "\n",
       "    .dataframe tbody tr th {\n",
       "        vertical-align: top;\n",
       "    }\n",
       "\n",
       "    .dataframe thead th {\n",
       "        text-align: right;\n",
       "    }\n",
       "</style>\n",
       "<table border=\"1\" class=\"dataframe\">\n",
       "  <thead>\n",
       "    <tr style=\"text-align: right;\">\n",
       "      <th>OBU_ANNUAL_INCOME</th>\n",
       "      <th>0</th>\n",
       "      <th>1</th>\n",
       "      <th>2</th>\n",
       "      <th>3</th>\n",
       "    </tr>\n",
       "    <tr>\n",
       "      <th>SAR</th>\n",
       "      <th></th>\n",
       "      <th></th>\n",
       "      <th></th>\n",
       "      <th></th>\n",
       "    </tr>\n",
       "  </thead>\n",
       "  <tbody>\n",
       "    <tr>\n",
       "      <th>N</th>\n",
       "      <td>6527</td>\n",
       "      <td>6886</td>\n",
       "      <td>1271</td>\n",
       "      <td>2473</td>\n",
       "    </tr>\n",
       "    <tr>\n",
       "      <th>Y</th>\n",
       "      <td>33</td>\n",
       "      <td>115</td>\n",
       "      <td>40</td>\n",
       "      <td>78</td>\n",
       "    </tr>\n",
       "  </tbody>\n",
       "</table>\n",
       "</div>"
      ],
      "text/plain": [
       "OBU_ANNUAL_INCOME     0     1     2     3\n",
       "SAR                                      \n",
       "N                  6527  6886  1271  2473\n",
       "Y                    33   115    40    78"
      ]
     },
     "execution_count": 37,
     "metadata": {},
     "output_type": "execute_result"
    }
   ],
   "source": [
    "pd.crosstab(OBU['SAR'], OBU['OBU_ANNUAL_INCOME'])"
   ]
  },
  {
   "cell_type": "code",
   "execution_count": 38,
   "metadata": {},
   "outputs": [
    {
     "data": {
      "text/html": [
       "<div>\n",
       "<style scoped>\n",
       "    .dataframe tbody tr th:only-of-type {\n",
       "        vertical-align: middle;\n",
       "    }\n",
       "\n",
       "    .dataframe tbody tr th {\n",
       "        vertical-align: top;\n",
       "    }\n",
       "\n",
       "    .dataframe thead th {\n",
       "        text-align: right;\n",
       "    }\n",
       "</style>\n",
       "<table border=\"1\" class=\"dataframe\">\n",
       "  <thead>\n",
       "    <tr style=\"text-align: right;\">\n",
       "      <th>CMFCUS1_PURPOSE</th>\n",
       "      <th>1</th>\n",
       "      <th>2</th>\n",
       "      <th>3</th>\n",
       "      <th>4</th>\n",
       "      <th>5</th>\n",
       "      <th>6</th>\n",
       "      <th>7</th>\n",
       "      <th>8</th>\n",
       "      <th>9</th>\n",
       "      <th>C</th>\n",
       "      <th>D</th>\n",
       "      <th>E</th>\n",
       "      <th>F</th>\n",
       "      <th>NA_TYPE</th>\n",
       "    </tr>\n",
       "    <tr>\n",
       "      <th>SAR</th>\n",
       "      <th></th>\n",
       "      <th></th>\n",
       "      <th></th>\n",
       "      <th></th>\n",
       "      <th></th>\n",
       "      <th></th>\n",
       "      <th></th>\n",
       "      <th></th>\n",
       "      <th></th>\n",
       "      <th></th>\n",
       "      <th></th>\n",
       "      <th></th>\n",
       "      <th></th>\n",
       "      <th></th>\n",
       "    </tr>\n",
       "  </thead>\n",
       "  <tbody>\n",
       "    <tr>\n",
       "      <th>N</th>\n",
       "      <td>3160</td>\n",
       "      <td>55</td>\n",
       "      <td>2</td>\n",
       "      <td>1752</td>\n",
       "      <td>645</td>\n",
       "      <td>998</td>\n",
       "      <td>1</td>\n",
       "      <td>1</td>\n",
       "      <td>15</td>\n",
       "      <td>750</td>\n",
       "      <td>486</td>\n",
       "      <td>2951</td>\n",
       "      <td>118</td>\n",
       "      <td>6223</td>\n",
       "    </tr>\n",
       "    <tr>\n",
       "      <th>Y</th>\n",
       "      <td>70</td>\n",
       "      <td>2</td>\n",
       "      <td>0</td>\n",
       "      <td>32</td>\n",
       "      <td>6</td>\n",
       "      <td>10</td>\n",
       "      <td>0</td>\n",
       "      <td>0</td>\n",
       "      <td>0</td>\n",
       "      <td>27</td>\n",
       "      <td>3</td>\n",
       "      <td>85</td>\n",
       "      <td>3</td>\n",
       "      <td>28</td>\n",
       "    </tr>\n",
       "  </tbody>\n",
       "</table>\n",
       "</div>"
      ],
      "text/plain": [
       "CMFCUS1_PURPOSE     1   2  3     4    5    6  7  8   9    C    D     E    F  \\\n",
       "SAR                                                                           \n",
       "N                3160  55  2  1752  645  998  1  1  15  750  486  2951  118   \n",
       "Y                  70   2  0    32    6   10  0  0   0   27    3    85    3   \n",
       "\n",
       "CMFCUS1_PURPOSE  NA_TYPE  \n",
       "SAR                       \n",
       "N                   6223  \n",
       "Y                     28  "
      ]
     },
     "execution_count": 38,
     "metadata": {},
     "output_type": "execute_result"
    }
   ],
   "source": [
    "pd.crosstab(OBU['SAR'], OBU['CMFCUS1_PURPOSE'])"
   ]
  },
  {
   "cell_type": "code",
   "execution_count": 39,
   "metadata": {},
   "outputs": [
    {
     "data": {
      "text/html": [
       "<div>\n",
       "<style scoped>\n",
       "    .dataframe tbody tr th:only-of-type {\n",
       "        vertical-align: middle;\n",
       "    }\n",
       "\n",
       "    .dataframe tbody tr th {\n",
       "        vertical-align: top;\n",
       "    }\n",
       "\n",
       "    .dataframe thead th {\n",
       "        text-align: right;\n",
       "    }\n",
       "</style>\n",
       "<table border=\"1\" class=\"dataframe\">\n",
       "  <thead>\n",
       "    <tr style=\"text-align: right;\">\n",
       "      <th>CORP_TYPE</th>\n",
       "      <th>1</th>\n",
       "      <th>2</th>\n",
       "      <th>3</th>\n",
       "      <th>4</th>\n",
       "      <th>5</th>\n",
       "      <th>6</th>\n",
       "      <th>7</th>\n",
       "      <th>A</th>\n",
       "      <th>NA_TYPE</th>\n",
       "      <th>Z</th>\n",
       "    </tr>\n",
       "    <tr>\n",
       "      <th>SAR</th>\n",
       "      <th></th>\n",
       "      <th></th>\n",
       "      <th></th>\n",
       "      <th></th>\n",
       "      <th></th>\n",
       "      <th></th>\n",
       "      <th></th>\n",
       "      <th></th>\n",
       "      <th></th>\n",
       "      <th></th>\n",
       "    </tr>\n",
       "  </thead>\n",
       "  <tbody>\n",
       "    <tr>\n",
       "      <th>N</th>\n",
       "      <td>3</td>\n",
       "      <td>1</td>\n",
       "      <td>28</td>\n",
       "      <td>1572</td>\n",
       "      <td>328</td>\n",
       "      <td>3</td>\n",
       "      <td>32</td>\n",
       "      <td>1</td>\n",
       "      <td>5043</td>\n",
       "      <td>10146</td>\n",
       "    </tr>\n",
       "    <tr>\n",
       "      <th>Y</th>\n",
       "      <td>0</td>\n",
       "      <td>0</td>\n",
       "      <td>0</td>\n",
       "      <td>4</td>\n",
       "      <td>1</td>\n",
       "      <td>0</td>\n",
       "      <td>0</td>\n",
       "      <td>0</td>\n",
       "      <td>9</td>\n",
       "      <td>252</td>\n",
       "    </tr>\n",
       "  </tbody>\n",
       "</table>\n",
       "</div>"
      ],
      "text/plain": [
       "CORP_TYPE  1  2   3     4    5  6   7  A  NA_TYPE      Z\n",
       "SAR                                                     \n",
       "N          3  1  28  1572  328  3  32  1     5043  10146\n",
       "Y          0  0   0     4    1  0   0  0        9    252"
      ]
     },
     "execution_count": 39,
     "metadata": {},
     "output_type": "execute_result"
    }
   ],
   "source": [
    "pd.crosstab(OBU['SAR'], OBU['CORP_TYPE'])"
   ]
  },
  {
   "cell_type": "code",
   "execution_count": null,
   "metadata": {},
   "outputs": [],
   "source": []
  },
  {
   "cell_type": "code",
   "execution_count": null,
   "metadata": {},
   "outputs": [],
   "source": []
  },
  {
   "cell_type": "markdown",
   "metadata": {},
   "source": [
    "#### Appendix 2 (確認FINAL_CRR及SAR之分佈狀況)"
   ]
  },
  {
   "cell_type": "code",
   "execution_count": 40,
   "metadata": {},
   "outputs": [
    {
     "data": {
      "text/plain": [
       "FINAL_CRR  SAR\n",
       "H          N      7137\n",
       "           Y       205\n",
       "L          N       862\n",
       "M          N      7775\n",
       "Name: SAR, dtype: int64"
      ]
     },
     "execution_count": 40,
     "metadata": {},
     "output_type": "execute_result"
    }
   ],
   "source": [
    "OBU.groupby(['FINAL_CRR', 'SAR'])['SAR'].count()"
   ]
  },
  {
   "cell_type": "code",
   "execution_count": null,
   "metadata": {},
   "outputs": [],
   "source": []
  },
  {
   "cell_type": "code",
   "execution_count": null,
   "metadata": {},
   "outputs": [],
   "source": []
  },
  {
   "cell_type": "markdown",
   "metadata": {},
   "source": [
    "#### Appendix 3\n",
    "輸出機率數值供切分點分析(OLD)  \n",
    "計算當機率切分為40%~60%時，F1-Score or Recall Score 之最佳化"
   ]
  },
  {
   "cell_type": "code",
   "execution_count": 43,
   "metadata": {},
   "outputs": [
    {
     "name": "stdout",
     "output_type": "stream",
     "text": [
      "機率切分為 40 %:\n",
      "Recall Score:  0.8157894736842105\n",
      "Accuracy:  0.6084486024220858\n",
      "F1 Score:  0.05981256890848953\n",
      "-------------------------------------------\n",
      "機率切分為 42 %:\n",
      "Recall Score:  0.8157894736842105\n",
      "Accuracy:  0.6141881421110027\n",
      "F1 Score:  0.060648406931246505\n",
      "-------------------------------------------\n",
      "機率切分為 44 %:\n",
      "Recall Score:  0.8045112781954887\n",
      "Accuracy:  0.6218791252941515\n",
      "F1 Score:  0.061003420752565575\n",
      "-------------------------------------------\n",
      "機率切分為 46 %:\n",
      "Recall Score:  0.793233082706767\n",
      "Accuracy:  0.6264133616483958\n",
      "F1 Score:  0.06088587505410474\n",
      "-------------------------------------------\n",
      "機率切分為 48 %:\n",
      "Recall Score:  0.7631578947368421\n",
      "Accuracy:  0.662400275497905\n",
      "F1 Score:  0.06456743002544528\n",
      "-------------------------------------------\n",
      "機率切分為 50 %:\n",
      "Recall Score:  0.7218045112781954\n",
      "Accuracy:  0.7011421683980945\n",
      "F1 Score:  0.06868181005186909\n",
      "-------------------------------------------\n",
      "機率切分為 52 %:\n",
      "Recall Score:  0.6992481203007519\n",
      "Accuracy:  0.7255926074728807\n",
      "F1 Score:  0.07219095672423831\n",
      "-------------------------------------------\n",
      "機率切分為 54 %:\n",
      "Recall Score:  0.650375939849624\n",
      "Accuracy:  0.773460368478448\n",
      "F1 Score:  0.08059631959003029\n",
      "-------------------------------------------\n",
      "機率切分為 56 %:\n",
      "Recall Score:  0.6165413533834586\n",
      "Accuracy:  0.7872352637318487\n",
      "F1 Score:  0.08128872366790584\n",
      "-------------------------------------------\n",
      "機率切分為 58 %:\n",
      "Recall Score:  0.5939849624060151\n",
      "Accuracy:  0.7960741548527808\n",
      "F1 Score:  0.08167485138278625\n",
      "-------------------------------------------\n",
      "機率切分為 60 %:\n",
      "Recall Score:  0.575187969924812\n",
      "Accuracy:  0.8040521150203753\n",
      "F1 Score:  0.08225806451612903\n",
      "-------------------------------------------\n"
     ]
    }
   ],
   "source": [
    "for i in range(40, 61, 2):\n",
    "    test['pred'] = np.where(test['pred_proba'] >= i/100, 'Y', 'N')\n",
    "    print('機率切分為', i, '%:')\n",
    "    print('Recall Score: ', metrics.recall_score(test['SAR'], test['pred'], pos_label='Y'))\n",
    "    print('Accuracy: ', metrics.accuracy_score(test['SAR'], test['pred']))\n",
    "    print('F1 Score: ', metrics.f1_score(test['SAR'], test['pred'], pos_label='Y'))\n",
    "    print('-------------------------------------------')"
   ]
  },
  {
   "cell_type": "code",
   "execution_count": null,
   "metadata": {},
   "outputs": [],
   "source": []
  },
  {
   "cell_type": "code",
   "execution_count": null,
   "metadata": {},
   "outputs": [],
   "source": []
  }
 ],
 "metadata": {
  "kernelspec": {
   "display_name": "Python 3",
   "language": "python",
   "name": "python3"
  },
  "language_info": {
   "codemirror_mode": {
    "name": "ipython",
    "version": 3
   },
   "file_extension": ".py",
   "mimetype": "text/x-python",
   "name": "python",
   "nbconvert_exporter": "python",
   "pygments_lexer": "ipython3",
   "version": "3.8.3"
  },
  "toc": {
   "base_numbering": 1,
   "nav_menu": {},
   "number_sections": false,
   "sideBar": true,
   "skip_h1_title": false,
   "title_cell": "Table of Contents",
   "title_sidebar": "Contents",
   "toc_cell": false,
   "toc_position": {},
   "toc_section_display": true,
   "toc_window_display": true
  }
 },
 "nbformat": 4,
 "nbformat_minor": 4
}
