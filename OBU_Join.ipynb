{
 "cells": [
  {
   "cell_type": "markdown",
   "metadata": {},
   "source": [
    "#### OBU (海外帳戶) 資料串聯"
   ]
  },
  {
   "cell_type": "markdown",
   "metadata": {},
   "source": [
    "OBU篩選條件: \n",
    "* 檔案DW_CSCUST_SS: 欄位'CUST_TYP'(基本資料性質別) == '1Z', '2Z', '3Z', '4Z', '5Z', '6Z', '7Z'\n",
    "* 檔案DW_AMLBRN_CUST: 欄位\"ACTIVE_CUST_0024_FG\" == \"Y\""
   ]
  },
  {
   "cell_type": "markdown",
   "metadata": {},
   "source": [
    "#### Module Import"
   ]
  },
  {
   "cell_type": "code",
   "execution_count": 2,
   "metadata": {},
   "outputs": [],
   "source": [
    "# Import required package\n",
    "import xlsxwriter\n",
    "from sqlalchemy import create_engine\n",
    "import pyodbc\n",
    "import pandas as pd\n",
    "import os\n",
    "import numpy as np"
   ]
  },
  {
   "cell_type": "markdown",
   "metadata": {},
   "source": [
    "#### 使用Python read_sql功能"
   ]
  },
  {
   "cell_type": "markdown",
   "metadata": {},
   "source": [
    "##### Testing SQL Command (測試是否成功與JupyterLab連結)"
   ]
  },
  {
   "cell_type": "code",
   "execution_count": 3,
   "metadata": {},
   "outputs": [
    {
     "name": "stdout",
     "output_type": "stream",
     "text": [
      "complete\n"
     ]
    }
   ],
   "source": [
    "# EY補充\n",
    "# 下面程式碼為EY以外部人員身分連結至JupyterLab執行之程式碼測試\n",
    "\n",
    "\n",
    "# Read data from db\n",
    "# Make sure this block was executed successfully before moving to the following blocks.\n",
    "# initilize DB connection\n",
    "server = '192.168.53.240,31017' #server若有更改，需要更新\n",
    "database = 'CRR93601' #DB若有更改，需要更新\n",
    "username = 'BIGDATA93601' #使用者名稱若有更改，需要更新\n",
    "password = 'M@egaicbc99!' #密碼若有替換，需要更新\n",
    "\n",
    "# 連接JupyterLab\n",
    "conn = pyodbc.connect('DRIVER={ODBC Driver 17 for SQL Server};SERVER=' + server + ';DATABASE=' + database + ';UID=' + username + ';PWD=' + password)\n",
    "\n",
    "# 測試SQL指令\n",
    "query = '''\n",
    "    SELECT TOP 10 CYC_MN FROM DW_CSCUST_SS;\n",
    "'''\n",
    "\n",
    "data = pd.read_sql(query, conn)\n",
    "\n",
    "# close the DB connection\n",
    "conn.close()\n",
    "\n",
    "\n",
    "print('complete')"
   ]
  },
  {
   "cell_type": "markdown",
   "metadata": {},
   "source": [
    "##### OBU Join"
   ]
  },
  {
   "cell_type": "code",
   "execution_count": 4,
   "metadata": {},
   "outputs": [
    {
     "name": "stdout",
     "output_type": "stream",
     "text": [
      "complete\n"
     ]
    }
   ],
   "source": [
    "# EY補充\n",
    "# 下面程式碼為EY以外部人員身分連結至JupyterLab執行之程式碼測試\n",
    "# 若擁有SQL權限則僅需要使用下面query中之SQL Command\n",
    "\n",
    "# Read data from db\n",
    "# Make sure this block was executed successfully before moving to the following blocks.\n",
    "# initilize DB connection\n",
    "server = '192.168.53.240,31017' #server若有更改，需要更新\n",
    "database = 'CRR93601' #DB若有更改，需要更新\n",
    "username = 'BIGDATA93601' #使用者名稱若有更改，需要更新\n",
    "password = 'M@egaicbc99!' #密碼若有替換，需要更新\n",
    "\n",
    "conn = pyodbc.connect('DRIVER={ODBC Driver 17 for SQL Server};SERVER=' + server + ';DATABASE=' + database + ';UID=' + username + ';PWD=' + password)\n",
    "\n",
    "\n",
    "\n",
    "# EY補充\n",
    "# query中使用SQL語法\n",
    "# 下面針對步驟進行相關說明\n",
    "# \n",
    "# 1. (SELECT * FROM DW_CSCUST_SS WHERE ((CUST_TYP IN ('1Z', '2Z', '3Z', '4Z', '5Z', '6Z', '7Z')) AND (CYC_MN BETWEEN '2019-09-01' AND '2020-08-30')))\n",
    "# 從資料DW_CSCUST_SS中篩選欄位CUST_TYP為1Z~7Z且年份區間為2019-09-01至2020-08-01的資料\n",
    "#\n",
    "# 2. JOIN (SELECT * FROM DW_AMLBRN_CUST WHERE CUST_ID != '' AND ACTIVE_CUST_0024_FG = 'Y') ON a.CYC_MN = b.CYC_MN AND a.CUST_ID = b.CUST_ID AND a.CUST_DUP_NO = b.CUST_DUP_NO\n",
    "# 從資料DW_AMLBRN_CUST中篩選CUST_ID不為空值且ACTIVE_CUST_0024_FG為Y之資料並與步驟一篩選出的資料進行INNER JOIN\n",
    "# 步驟1與步驟2主要目的為找出OBU客戶之ID 且 決定需要的資料年份區間\n",
    "# \n",
    "# 3. 後續的程式碼則是決定需要哪些檔案並透過LEFT JOIN的方式確保僅篩選OBU客戶資料\n",
    "#\n",
    "# 若需要串聯DBU個人及DBU法人，則需要將步驟1 & 步驟2調整為其篩選條件\n",
    "# 若需要調整資料年份區間，則需要調整步驟1之年份區間\n",
    "\n",
    "\n",
    "query = '''\n",
    "SELECT *\n",
    "  FROM (SELECT * FROM DW_CSCUST_SS \n",
    " WHERE ((CUST_TYP IN ('1Z', '2Z', '3Z', '4Z', '5Z', '6Z', '7Z')) AND (CYC_MN BETWEEN '2019-09-01' AND '2020-08-30'))) AS a\n",
    "     \n",
    "       JOIN (SELECT * FROM DW_AMLBRN_CUST WHERE CUST_ID != '' AND ACTIVE_CUST_0024_FG = 'Y') AS b \n",
    "       ON a.CYC_MN = b.CYC_MN AND a.CUST_ID = b.CUST_ID AND a.CUST_DUP_NO = b.CUST_DUP_NO\n",
    "     \n",
    "       LEFT OUTER JOIN (SELECT * FROM DW_AMLCUST_SS WHERE CUST_ID != '') AS c \n",
    "       ON a.CYC_MN = c.CYC_MN AND a.CUST_ID = c.CUST_ID AND a.CUST_DUP_NO = c.CUST_DUP_NO\n",
    "     \n",
    "       LEFT OUTER JOIN (SELECT * FROM DW_CMFLUREL_SS WHERE ID_NO != '') AS d \n",
    "       ON a.CYC_MN = d.CYC_MN AND a.CUST_ID = d.ID_NO AND a.CUST_DUP_NO = d.ID_DUP\n",
    "     \n",
    "       LEFT OUTER JOIN (SELECT * FROM ODS_CMFCUS25_SS WHERE CMFCUS25_ID_NO != '') AS e \n",
    "       ON a.CYC_MN = e.CYC_MN AND a.CUST_ID = e.CMFCUS25_ID_NO AND (a.CUST_DUP_NO = e.CMFCUS25_DUP_NO OR (a.CUST_DUP_NO = '' AND e.CMFCUS25_DUP_NO = '0'))\n",
    "     \n",
    "       LEFT OUTER JOIN (SELECT * FROM ODS_CMFCUS1_SS WHERE CMFCUS1_ID_NO != '') AS f \n",
    "       ON a.CYC_MN = f.CYC_MN AND a.CUST_ID = f.CMFCUS1_ID_NO AND (a.CUST_DUP_NO = f.CMFCUS1_DUP_NO OR (a.CUST_DUP_NO = '' AND f.CMFCUS1_DUP_NO = '0'))\n",
    "     \n",
    "       LEFT OUTER JOIN (SELECT * FROM DW_AMLCRR WHERE CUST_ID != '') AS g \n",
    "       ON a.CYC_MN = g.CYC_MN AND a.CUST_ID = g.CUST_ID AND a.CUST_DUP_NO = g.CUST_DUP_NO\n",
    "'''\n",
    "\n",
    "data = pd.read_sql(query, conn)\n",
    "\n",
    "# close the DB connection\n",
    "conn.close()\n",
    "print('complete')\n"
   ]
  },
  {
   "cell_type": "code",
   "execution_count": null,
   "metadata": {},
   "outputs": [],
   "source": [
    "# 查看資料之Row & Column數量\n",
    "print(data.shape)"
   ]
  },
  {
   "cell_type": "code",
   "execution_count": null,
   "metadata": {},
   "outputs": [],
   "source": [
    "# 儲存資料至相關路徑\n",
    "data.to_csv('/path', index=False) #路徑需更新"
   ]
  },
  {
   "cell_type": "code",
   "execution_count": null,
   "metadata": {},
   "outputs": [],
   "source": []
  },
  {
   "cell_type": "code",
   "execution_count": null,
   "metadata": {},
   "outputs": [],
   "source": []
  }
 ],
 "metadata": {
  "kernelspec": {
   "display_name": "Python 3",
   "language": "python",
   "name": "python3"
  },
  "language_info": {
   "codemirror_mode": {
    "name": "ipython",
    "version": 3
   },
   "file_extension": ".py",
   "mimetype": "text/x-python",
   "name": "python",
   "nbconvert_exporter": "python",
   "pygments_lexer": "ipython3",
   "version": "3.8.3"
  }
 },
 "nbformat": 4,
 "nbformat_minor": 4
}
