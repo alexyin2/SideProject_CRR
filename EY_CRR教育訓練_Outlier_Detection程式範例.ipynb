{
 "cells": [
  {
   "cell_type": "markdown",
   "metadata": {},
   "source": [
    "CB Analysis\n",
    "\n",
    "Update\n",
    "* 為加強\"動態因子\"維度對於模型的影響力，動態因子調整為客戶有任一命中，動態因子維度即為最大值(1)。"
   ]
  },
  {
   "cell_type": "code",
   "execution_count": 1,
   "metadata": {},
   "outputs": [],
   "source": [
    "import os.path\n",
    "import pandas as pd\n",
    "import numpy as np\n",
    "import math\n",
    "\n",
    "from sklearn.model_selection import train_test_split\n",
    "from sklearn.linear_model import LogisticRegression\n",
    "from sklearn import metrics\n",
    "import seaborn as sn\n",
    "import matplotlib.pyplot as plt\n",
    "import matplotlib.ticker as mtick\n",
    "%matplotlib inline\n",
    "from sklearn.preprocessing import OrdinalEncoder\n",
    "from sklearn.preprocessing import LabelEncoder\n",
    "from sklearn.model_selection import ShuffleSplit\n",
    "from sklearn.neighbors import KNeighborsClassifier\n",
    "from sklearn.metrics import roc_auc_score\n",
    "from sklearn.metrics import precision_recall_curve #P-R Curve\n",
    "from sklearn import metrics\n",
    "from sklearn.model_selection import GridSearchCV #Hyperparameters\n",
    "\n",
    "from scipy.cluster.hierarchy import dendrogram\n",
    "from sklearn.cluster import AgglomerativeClustering\n",
    "from sklearn.cluster import KMeans\n",
    "from sklearn import preprocessing"
   ]
  },
  {
   "cell_type": "markdown",
   "metadata": {},
   "source": [
    "#### 1. Data Import & Cleaning"
   ]
  },
  {
   "cell_type": "code",
   "execution_count": 2,
   "metadata": {},
   "outputs": [],
   "source": [
    "CB = pd.read_csv(r\"/home/bigdata93601/DB Result/DW_AMLCRR_RMA_JOIN_20200801.csv\", dtype=str)\n"
   ]
  },
  {
   "cell_type": "markdown",
   "metadata": {},
   "source": [
    "##### Drop Duplicated data (New Version)\n",
    "目的: 僅保留在資訊層面最新之帳戶"
   ]
  },
  {
   "cell_type": "code",
   "execution_count": null,
   "metadata": {},
   "outputs": [],
   "source": [
    "# 僅保留客戶最新資訊欄位\n",
    "use_cols = ['CUST_ID', 'CUST_DUP_NO']\n",
    "CB = CB.sort_values('CYC_MN', ascending=False).drop_duplicates(subset=use_cols, keep='first')\n",
    "CB.reset_index(inplace=True)"
   ]
  },
  {
   "cell_type": "code",
   "execution_count": null,
   "metadata": {},
   "outputs": [],
   "source": []
  },
  {
   "cell_type": "code",
   "execution_count": null,
   "metadata": {},
   "outputs": [],
   "source": []
  },
  {
   "cell_type": "markdown",
   "metadata": {},
   "source": [
    "#### 2. 變數轉換"
   ]
  },
  {
   "cell_type": "markdown",
   "metadata": {},
   "source": [
    "##### A. 地域風險"
   ]
  },
  {
   "cell_type": "code",
   "execution_count": 3,
   "metadata": {},
   "outputs": [],
   "source": [
    "# EY補充\n",
    "# 新增欄位的情況下，將變數轉換為1/3/5的資料格式。\n",
    "# 使用者需要自行定義分數轉換條件\n",
    "# 下面範例將以df代表輸入資料，NEW_COLUMN代表新增欄位\n",
    "# \n",
    "# 範例一\n",
    "# 新增欄位的資料內容為[\"V\", Nan, \"V\", \"V\", Nan, ... , \"V\"]\n",
    "# 使用者定義將V轉換為5，空值(Nan)轉換為1。\n",
    "# df[\"NEW_COLUMN\"] = np.where(df[\"NEW_COLUMN\"] == \"V\", \"5\", \"1\")\n",
    "\n",
    "\n",
    "# GEOGRAPHY_SCORE\n",
    "def GEOGRAPHY_SCORE_TRANSFORM(series):\n",
    "    input = series\n",
    "    if input == '+001.00':\n",
    "        return '1'\n",
    "    elif input == '+050.00':\n",
    "        return '3'\n",
    "    else:\n",
    "        return '5'\n",
    "\n",
    "CB['NATION_RISK'] = CB['GEOGRAPHY_SCORE'].apply(GEOGRAPHY_SCORE_TRANSFORM).astype(int)\n",
    "\n",
    "\n",
    "# CMFCUS25_AE_TYPE\n",
    "CB['CMFCUS25_AE_TYPE'] = np.where((CB[\"CMFCUS25_AE_TYPE\"].isin(['1', '2', '3', '4', '5', '6', '7'])), '5', '1').astype(int)\n",
    "\n",
    "# CMFCUS25_CHINA_FLAG\n",
    "CB['CMFCUS25_CHINA_FLAG'] = CB['CMFCUS25_CHINA_FLAG'].map({'2': '5', '1': '3'}).fillna('0').astype(int)\n",
    "\n",
    "\n",
    "# 新增REGION_RISK(為地域風險的加總分數)\n",
    "CB['REGION_RISK'] = CB['NATION_RISK'] + CB['CMFCUS25_AE_TYPE'] + CB['CMFCUS25_CHINA_FLAG']\n"
   ]
  },
  {
   "cell_type": "code",
   "execution_count": null,
   "metadata": {},
   "outputs": [],
   "source": []
  },
  {
   "cell_type": "code",
   "execution_count": null,
   "metadata": {},
   "outputs": [],
   "source": []
  },
  {
   "cell_type": "markdown",
   "metadata": {},
   "source": [
    "##### B. 行/職業"
   ]
  },
  {
   "cell_type": "code",
   "execution_count": null,
   "metadata": {},
   "outputs": [],
   "source": [
    "# EY補充\n",
    "# 下面預先檢視各欄位在通匯業務客戶的分佈，若全部資料皆相同，則該欄位無需進行轉換也無須放入模型"
   ]
  },
  {
   "cell_type": "code",
   "execution_count": 4,
   "metadata": {},
   "outputs": [
    {
     "data": {
      "text/plain": [
       "Series([], Name: CMFCUS1_TITLE_CODE, dtype: int64)"
      ]
     },
     "execution_count": 4,
     "metadata": {},
     "output_type": "execute_result"
    }
   ],
   "source": [
    "CB['CMFCUS1_TITLE_CODE'].value_counts()"
   ]
  },
  {
   "cell_type": "code",
   "execution_count": 5,
   "metadata": {},
   "outputs": [],
   "source": [
    "# CMFCUS1_BUSINESS_CODE\n",
    "BUSINESS_CODE_TABLE = pd.read_csv(r\"/home/bigdata93601/DB Result/BUSINESS_CODE_TABLE.csv\", dtype=str) #行業編號對照風險等級表\n",
    "\n",
    "# Create dictionary\n",
    "BUSINESS_CODE_dict = {'L': BUSINESS_CODE_TABLE[BUSINESS_CODE_TABLE['RISK']=='L']['CODE'].tolist(),\n",
    "                      'M': BUSINESS_CODE_TABLE[BUSINESS_CODE_TABLE['RISK']=='M']['CODE'].tolist(),\n",
    "                      'H': BUSINESS_CODE_TABLE[BUSINESS_CODE_TABLE['RISK']=='H']['CODE'].tolist()}\n",
    "# Inverse dictionary\n",
    "BUSINESS_CODE_dict = {c: r for r, code in BUSINESS_CODE_dict.items() for c in code}\n",
    "\n",
    "CB['CMFCUS1_BUSINESS_CODE'].replace(BUSINESS_CODE_dict, inplace=True)\n",
    "# Nan轉為L\n",
    "CB['CMFCUS1_BUSINESS_CODE'] = np.where(~CB[\"CMFCUS1_BUSINESS_CODE\"].isin(['H', 'M', 'L']), 'L', CB['CMFCUS1_BUSINESS_CODE'])\n",
    "\n",
    "CB['CMFCUS1_BUSINESS_CODE'] = CB['CMFCUS1_BUSINESS_CODE'].map({'H': '5', 'M': '3', 'L': '1'}).astype(int)\n",
    "\n",
    "\n",
    "# 'CMFCUS1_BUSINESS_FLAG'\n",
    "CB['CMFCUS1_BUSINESS_FLAG'] = np.where(~CB['CMFCUS1_BUSINESS_FLAG'].isin(['Y', 'N']), 'N', CB['CMFCUS1_BUSINESS_FLAG'])\n",
    "CB['CMFCUS1_BUSINESS_FLAG'] = CB['CMFCUS1_BUSINESS_FLAG'].map({'Y': '1', 'N': '5'}).astype(int)\n",
    "\n",
    "# CORP_TYPE\n",
    "def apply_CORP_TYPE(series):\n",
    "    input = series\n",
    "    if (input in [np.nan]):\n",
    "        return '5'\n",
    "    elif (input in ['Z']):\n",
    "        return '3'\n",
    "    else:\n",
    "        return '1'\n",
    "    \n",
    "CB['CORP_TYPE'] = CB['CORP_TYPE'].apply(apply_CORP_TYPE).astype(int)\n",
    "\n",
    "# JOB_RISK\n",
    "def risk_to_number(series):\n",
    "    input = series\n",
    "    if input == 'H':\n",
    "        return '5'\n",
    "    elif input == 'M':\n",
    "        return '3'\n",
    "    else:\n",
    "        return '1'\n",
    "CB['JOB_RISK'] = CB['JOB_RISK'].apply(risk_to_number).astype(int)\n",
    "\n",
    "# 新增INDUSTRY_RISK(為行職業風險的加總分數)\n",
    "CB['INDUSTRY_RISK'] = CB['CMFCUS1_BUSINESS_CODE'] + CB['CMFCUS1_BUSINESS_FLAG'] + CB['CORP_TYPE'] + CB['JOB_RISK']\n"
   ]
  },
  {
   "cell_type": "code",
   "execution_count": null,
   "metadata": {},
   "outputs": [],
   "source": []
  },
  {
   "cell_type": "code",
   "execution_count": null,
   "metadata": {},
   "outputs": [],
   "source": []
  },
  {
   "cell_type": "markdown",
   "metadata": {},
   "source": [
    "##### C. 通路"
   ]
  },
  {
   "cell_type": "code",
   "execution_count": 6,
   "metadata": {},
   "outputs": [],
   "source": [
    "# 無通路"
   ]
  },
  {
   "cell_type": "markdown",
   "metadata": {},
   "source": [
    "##### D. 產品服務"
   ]
  },
  {
   "cell_type": "code",
   "execution_count": null,
   "metadata": {},
   "outputs": [],
   "source": [
    "# EY補充\n",
    "# 下面預先檢視各欄位在通匯業務客戶的分佈，若全部資料皆相同，則該欄位無需進行轉換也無須放入模型"
   ]
  },
  {
   "cell_type": "code",
   "execution_count": 6,
   "metadata": {},
   "outputs": [
    {
     "data": {
      "text/plain": [
       "N    86\n",
       "Name: CMFCUS25_OSU_FLAG, dtype: int64"
      ]
     },
     "execution_count": 6,
     "metadata": {},
     "output_type": "execute_result"
    }
   ],
   "source": [
    "CB['CMFCUS25_OSU_FLAG'].value_counts()"
   ]
  },
  {
   "cell_type": "code",
   "execution_count": 7,
   "metadata": {},
   "outputs": [],
   "source": [
    "# 1. 業務類別\n",
    "for i in ['DP_FG', 'LN_FG', 'IX_FG', 'BD_FG', 'FD_FG', 'WM_FG', 'TR_FG', 'EB_FG', 'CD_FG', 'OT_FG']:\n",
    "    CB[i] = np.where(CB[i] == 'V', 1, 0)\n",
    "\n",
    "# 業務數目加總\n",
    "CB['BUSINESS_COUNT'] = CB[['DP_FG', 'LN_FG', 'IX_FG', 'BD_FG', 'FD_FG', 'WM_FG', 'TR_FG', 'EB_FG', 'CD_FG', 'OT_FG']].sum(axis='columns')\n",
    "\n",
    "# 換算為風險分數\n",
    "def COUNT_TO_NUMBER(series):\n",
    "    input = series\n",
    "    if input >= 5:\n",
    "        return '5'\n",
    "    elif (input > 1) & (input < 5):\n",
    "        return '3'\n",
    "    else:\n",
    "        return '1'\n",
    "    \n",
    "CB['BUSINESS_COUNT'] = CB['BUSINESS_COUNT'].apply(COUNT_TO_NUMBER).astype(int)\n",
    "\n",
    "# 2. CMFCUS1_DERIVATIVE\n",
    "CB['CMFCUS1_DERIVATIVE'] = CB['CMFCUS1_DERIVATIVE'].map({'1': '5', '2': '1', '3': '1', '4': '1', '5': '3'}).fillna('1').astype(int)\n",
    "\n",
    "\n",
    "# 新增PRODUCT_RISK(為產品風險的加總分數)\n",
    "CB['PRODUCT_RISK'] = CB['BUSINESS_COUNT'] + CB['CMFCUS1_DERIVATIVE']\n",
    "\n"
   ]
  },
  {
   "cell_type": "code",
   "execution_count": null,
   "metadata": {},
   "outputs": [],
   "source": []
  },
  {
   "cell_type": "code",
   "execution_count": null,
   "metadata": {},
   "outputs": [],
   "source": []
  },
  {
   "cell_type": "markdown",
   "metadata": {},
   "source": [
    "##### E. 組織型態"
   ]
  },
  {
   "cell_type": "code",
   "execution_count": null,
   "metadata": {},
   "outputs": [],
   "source": [
    "# EY補充\n",
    "# 下面預先檢視各欄位在通匯業務客戶的分佈，若全部資料皆相同，則該欄位無需進行轉換也無須放入模型"
   ]
  },
  {
   "cell_type": "code",
   "execution_count": 11,
   "metadata": {},
   "outputs": [
    {
     "data": {
      "text/plain": [
       "N    86\n",
       "Name: CMFCUS1_PREOFFICE, dtype: int64"
      ]
     },
     "execution_count": 11,
     "metadata": {},
     "output_type": "execute_result"
    }
   ],
   "source": [
    "CB['CMFCUS1_PREOFFICE'].value_counts()"
   ]
  },
  {
   "cell_type": "code",
   "execution_count": 12,
   "metadata": {},
   "outputs": [
    {
     "data": {
      "text/plain": [
       "Series([], Name: CMFCUS1_NPO_TYPE, dtype: int64)"
      ]
     },
     "execution_count": 12,
     "metadata": {},
     "output_type": "execute_result"
    }
   ],
   "source": [
    "CB['CMFCUS1_NPO_TYPE'].value_counts()"
   ]
  },
  {
   "cell_type": "code",
   "execution_count": 13,
   "metadata": {},
   "outputs": [
    {
     "data": {
      "text/plain": [
       "N    86\n",
       "Name: COMPLEX_CS_FG, dtype: int64"
      ]
     },
     "execution_count": 13,
     "metadata": {},
     "output_type": "execute_result"
    }
   ],
   "source": [
    "CB['COMPLEX_CS_FG'].value_counts()"
   ]
  },
  {
   "cell_type": "code",
   "execution_count": 14,
   "metadata": {},
   "outputs": [
    {
     "data": {
      "text/plain": [
       "N    86\n",
       "Name: TRUST_HOLDER, dtype: int64"
      ]
     },
     "execution_count": 14,
     "metadata": {},
     "output_type": "execute_result"
    }
   ],
   "source": [
    "CB['TRUST_HOLDER'].value_counts()"
   ]
  },
  {
   "cell_type": "code",
   "execution_count": 15,
   "metadata": {},
   "outputs": [
    {
     "data": {
      "text/plain": [
       "N    86\n",
       "Name: CMFCUS25_CREATIVE_FLAG, dtype: int64"
      ]
     },
     "execution_count": 15,
     "metadata": {},
     "output_type": "execute_result"
    }
   ],
   "source": [
    "CB['CMFCUS25_CREATIVE_FLAG'].value_counts()"
   ]
  },
  {
   "cell_type": "code",
   "execution_count": 16,
   "metadata": {},
   "outputs": [
    {
     "data": {
      "text/plain": [
       "Y    56\n",
       "N    30\n",
       "Name: CMFCUS25_PUBLIC_CMPY, dtype: int64"
      ]
     },
     "execution_count": 16,
     "metadata": {},
     "output_type": "execute_result"
    }
   ],
   "source": [
    "CB['CMFCUS25_PUBLIC_CMPY'].value_counts()"
   ]
  },
  {
   "cell_type": "code",
   "execution_count": 17,
   "metadata": {},
   "outputs": [
    {
     "data": {
      "text/plain": [
       "1    55\n",
       "2    30\n",
       "3     1\n",
       "Name: ORG_PATTERN, dtype: int64"
      ]
     },
     "execution_count": 17,
     "metadata": {},
     "output_type": "execute_result"
    }
   ],
   "source": [
    "CB['ORG_PATTERN'].value_counts()"
   ]
  },
  {
   "cell_type": "code",
   "execution_count": 18,
   "metadata": {},
   "outputs": [
    {
     "data": {
      "text/plain": [
       "+001.00    55\n",
       "+050.00    30\n",
       "+100.00     1\n",
       "Name: ORG_PATTERN_SCORE, dtype: int64"
      ]
     },
     "execution_count": 18,
     "metadata": {},
     "output_type": "execute_result"
    }
   ],
   "source": [
    "CB['ORG_PATTERN_SCORE'].value_counts()"
   ]
  },
  {
   "cell_type": "code",
   "execution_count": 19,
   "metadata": {},
   "outputs": [],
   "source": [
    "# CMFCUS25_PUBLIC_CMPY\n",
    "CB['CMFCUS25_PUBLIC_CMPY'] = np.where(CB['CMFCUS25_PUBLIC_CMPY'] == 'Y', 1, 5)\n",
    "\n",
    "# ORG_PATTERN\n",
    "def ORG_PATTERN_TRANSFORM(series):\n",
    "    input = series\n",
    "    if input == '1':\n",
    "        return '1'\n",
    "    elif input == '2':\n",
    "        return '3'\n",
    "    else:\n",
    "        return '5'\n",
    "\n",
    "\n",
    "\n",
    "CB['ORG_PATTERN'] = CB['ORG_PATTERN'].apply(ORG_PATTERN_TRANSFORM).astype(int)\n",
    "\n",
    "# 新增ORGANIZATION_RISK(為產品風險的加總分數)\n",
    "CB['ORGANIZATION_RISK'] = CB['CMFCUS25_PUBLIC_CMPY'] + CB['ORG_PATTERN']\n"
   ]
  },
  {
   "cell_type": "code",
   "execution_count": null,
   "metadata": {},
   "outputs": [],
   "source": []
  },
  {
   "cell_type": "code",
   "execution_count": null,
   "metadata": {},
   "outputs": [],
   "source": []
  },
  {
   "cell_type": "markdown",
   "metadata": {},
   "source": [
    "##### F.其他"
   ]
  },
  {
   "cell_type": "code",
   "execution_count": 20,
   "metadata": {},
   "outputs": [
    {
     "data": {
      "text/plain": [
       "01    59\n",
       "02    17\n",
       "03    10\n",
       "Name: CMFCUS1_OPHONE_CNT, dtype: int64"
      ]
     },
     "execution_count": 20,
     "metadata": {},
     "output_type": "execute_result"
    }
   ],
   "source": [
    "CB['CMFCUS1_OPHONE_CNT'].value_counts()"
   ]
  },
  {
   "cell_type": "code",
   "execution_count": 21,
   "metadata": {},
   "outputs": [
    {
     "data": {
      "text/plain": [
       "F    67\n",
       "4    17\n",
       "8     1\n",
       "E     1\n",
       "Name: CMFCUS1_PURPOSE, dtype: int64"
      ]
     },
     "execution_count": 21,
     "metadata": {},
     "output_type": "execute_result"
    }
   ],
   "source": [
    "CB['CMFCUS1_PURPOSE'].value_counts()"
   ]
  },
  {
   "cell_type": "code",
   "execution_count": 22,
   "metadata": {},
   "outputs": [
    {
     "data": {
      "text/plain": [
       "N    83\n",
       "Y     3\n",
       "Name: CONFIRM_YN, dtype: int64"
      ]
     },
     "execution_count": 22,
     "metadata": {},
     "output_type": "execute_result"
    }
   ],
   "source": [
    "CB['CONFIRM_YN'].value_counts()"
   ]
  },
  {
   "cell_type": "code",
   "execution_count": 23,
   "metadata": {},
   "outputs": [
    {
     "data": {
      "text/plain": [
       "3    3\n",
       "Name: CONFIRM_TYPE, dtype: int64"
      ]
     },
     "execution_count": 23,
     "metadata": {},
     "output_type": "execute_result"
    }
   ],
   "source": [
    "CB['CONFIRM_TYPE'].value_counts()"
   ]
  },
  {
   "cell_type": "code",
   "execution_count": 24,
   "metadata": {},
   "outputs": [
    {
     "data": {
      "text/plain": [
       "N    84\n",
       "Y     2\n",
       "Name: AUTHORIZED, dtype: int64"
      ]
     },
     "execution_count": 24,
     "metadata": {},
     "output_type": "execute_result"
    }
   ],
   "source": [
    "CB['AUTHORIZED'].value_counts()"
   ]
  },
  {
   "cell_type": "code",
   "execution_count": 25,
   "metadata": {},
   "outputs": [
    {
     "data": {
      "text/plain": [
       "N    86\n",
       "Name: CUST_THIRD, dtype: int64"
      ]
     },
     "execution_count": 25,
     "metadata": {},
     "output_type": "execute_result"
    }
   ],
   "source": [
    "CB['CUST_THIRD'].value_counts()"
   ]
  },
  {
   "cell_type": "code",
   "execution_count": 26,
   "metadata": {},
   "outputs": [
    {
     "data": {
      "text/plain": [
       "Y    86\n",
       "Name: CMFCUS25_CERTI_FLAG, dtype: int64"
      ]
     },
     "execution_count": 26,
     "metadata": {},
     "output_type": "execute_result"
    }
   ],
   "source": [
    "CB['CMFCUS25_CERTI_FLAG'].value_counts()"
   ]
  },
  {
   "cell_type": "code",
   "execution_count": 27,
   "metadata": {},
   "outputs": [
    {
     "data": {
      "text/plain": [
       "N    86\n",
       "Name: CMFCUS25_TAXFREE_FLAG, dtype: int64"
      ]
     },
     "execution_count": 27,
     "metadata": {},
     "output_type": "execute_result"
    }
   ],
   "source": [
    "CB['CMFCUS25_TAXFREE_FLAG'].value_counts()"
   ]
  },
  {
   "cell_type": "code",
   "execution_count": 28,
   "metadata": {},
   "outputs": [
    {
     "data": {
      "text/plain": [
       "N    84\n",
       "Y     2\n",
       "Name: AUTHORIZED, dtype: int64"
      ]
     },
     "execution_count": 28,
     "metadata": {},
     "output_type": "execute_result"
    }
   ],
   "source": [
    "CB['AUTHORIZED'].value_counts()"
   ]
  },
  {
   "cell_type": "code",
   "execution_count": 29,
   "metadata": {},
   "outputs": [
    {
     "data": {
      "text/plain": [
       "N    85\n",
       "Y     1\n",
       "Name: LTNC_FLAG, dtype: int64"
      ]
     },
     "execution_count": 29,
     "metadata": {},
     "output_type": "execute_result"
    }
   ],
   "source": [
    "CB['LTNC_FLAG'].value_counts()"
   ]
  },
  {
   "cell_type": "code",
   "execution_count": 30,
   "metadata": {},
   "outputs": [],
   "source": [
    "# CMFCUS1_OPHONE_CNT\n",
    "def COUNT_TO_NUMBER(series):\n",
    "    input = series\n",
    "    if input >= 5:\n",
    "        return '5'\n",
    "    elif (input > 2) & (input < 5):\n",
    "        return '3'\n",
    "    else:\n",
    "        return '1'\n",
    "    \n",
    "CB['CMFCUS1_OPHONE_CNT'] = CB['CMFCUS1_OPHONE_CNT'].fillna('0').astype(int).apply(COUNT_TO_NUMBER).astype(int)\n",
    "\n",
    "# CMFCUS1_PURPOSE\n",
    "def PURPOSE_TO_NUMBER(series):\n",
    "    input = series\n",
    "    if input in ['1', '3', '4', '5', '7', '8', 'D', 'E']:\n",
    "        return '3'\n",
    "    elif input in ['2', '6', 'B', 'X', 'Z']:\n",
    "        return '1'\n",
    "    else:\n",
    "        return '5'\n",
    "CB['CMFCUS1_PURPOSE'] = CB['CMFCUS1_PURPOSE'].apply(PURPOSE_TO_NUMBER).astype(int)\n",
    "\n",
    "# CONFIRM_YN\n",
    "CB['CONFIRM_YN'] = CB['CONFIRM_YN'].map({'Y': '5', 'N': '1', np.nan: '5'}).astype(int)\n",
    "\n",
    "# CONFIRM_TYPE\n",
    "CB['CONFIRM_TYPE'] = np.where(CB['CONFIRM_TYPE'].isin(['1', '2', '3']), 5, 1).astype(int)\n",
    "\n",
    "# PEP_COUNT_THR_1\n",
    "test = CB[(CB['PEP_1'] == 'Y') | (CB['PEP_2'] == 'Y') | (CB['PEP_3'] == 'Y') | (CB['PEP_4'] == 'Y')][['PEP_1', 'PEP_2', 'PEP_3', 'PEP_4']]\n",
    "test2 = test.apply(pd.Series.value_counts, axis=1).fillna(0)\n",
    "CB['PEP_COUNT'] = 0\n",
    "CB.loc[test2.index, 'PEP_COUNT'] = test2['Y']\n",
    "\n",
    "CB['PEP_COUNT_THR_1'] = np.where(CB['PEP_COUNT'] >=1, '5', '1').astype(int)\n",
    "\n",
    "# AUTHORIZED\n",
    "CB['AUTHORIZED'] = np.where(CB['AUTHORIZED'] == 'Y', 5, 1)\n",
    "\n",
    "# LTNC_FLAG\n",
    "CB['LTNC_FLAG'] = np.where(CB['LTNC_FLAG'] == 'Y', 5, 1)\n",
    "\n",
    "CB['ELSE'] = CB['CMFCUS1_OPHONE_CNT'] + CB['CMFCUS1_PURPOSE'] + CB['CONFIRM_YN'] + CB['CONFIRM_TYPE'] + CB['PEP_COUNT_THR_1'] + CB['AUTHORIZED'] + CB['LTNC_FLAG']"
   ]
  },
  {
   "cell_type": "code",
   "execution_count": null,
   "metadata": {},
   "outputs": [],
   "source": []
  },
  {
   "cell_type": "code",
   "execution_count": null,
   "metadata": {},
   "outputs": [],
   "source": []
  },
  {
   "cell_type": "markdown",
   "metadata": {},
   "source": [
    "##### G. Trade"
   ]
  },
  {
   "cell_type": "code",
   "execution_count": null,
   "metadata": {},
   "outputs": [],
   "source": [
    "# EY補充\n",
    "# 下面預先檢視各欄位在通匯業務客戶的分佈，若全部資料皆相同，則該欄位無需進行轉換也無須放入模型"
   ]
  },
  {
   "cell_type": "code",
   "execution_count": 31,
   "metadata": {},
   "outputs": [
    {
     "data": {
      "text/plain": [
       "1.0    86\n",
       "Name: CB_BETWEEN_SCORE, dtype: int64"
      ]
     },
     "execution_count": 31,
     "metadata": {},
     "output_type": "execute_result"
    }
   ],
   "source": [
    "CB['CB_BETWEEN_SCORE'].value_counts()"
   ]
  },
  {
   "cell_type": "code",
   "execution_count": 32,
   "metadata": {},
   "outputs": [
    {
     "data": {
      "text/plain": [
       "50.0    56\n",
       "0.0     30\n",
       "Name: CB_DOMESTIC_SCORE, dtype: int64"
      ]
     },
     "execution_count": 32,
     "metadata": {},
     "output_type": "execute_result"
    }
   ],
   "source": [
    "CB['CB_DOMESTIC_SCORE'].value_counts()"
   ]
  },
  {
   "cell_type": "code",
   "execution_count": 33,
   "metadata": {},
   "outputs": [
    {
     "data": {
      "text/plain": [
       "0.0      68\n",
       "100.0    18\n",
       "Name: CB_INTERNATIONAL_SCORE, dtype: int64"
      ]
     },
     "execution_count": 33,
     "metadata": {},
     "output_type": "execute_result"
    }
   ],
   "source": [
    "CB['CB_INTERNATIONAL_SCORE'].value_counts()"
   ]
  },
  {
   "cell_type": "code",
   "execution_count": 34,
   "metadata": {},
   "outputs": [],
   "source": [
    "# 資金轉帳\n",
    "\n",
    "CB['CB_BETWEEN_SCORE'] = np.where(CB['CB_BETWEEN_SCORE'] == '1.0', '5', '1').astype(int)\n",
    "\n",
    "CB['CB_DOMESTIC_SCORE'] = np.where(CB['CB_DOMESTIC_SCORE'] == '50.0', '5', '1').astype(int)\n",
    "\n",
    "CB['CB_INTERNATIONAL_SCORE'] = np.where(CB['CB_INTERNATIONAL_SCORE'] == '100.0', '5', '1').astype(int)\n",
    "\n",
    "CB['TRADE'] = CB['CB_BETWEEN_SCORE'] + CB['CB_DOMESTIC_SCORE'] + CB['CB_INTERNATIONAL_SCORE']"
   ]
  },
  {
   "cell_type": "markdown",
   "metadata": {},
   "source": [
    "##### H. 動態風險因子"
   ]
  },
  {
   "cell_type": "code",
   "execution_count": 35,
   "metadata": {},
   "outputs": [
    {
     "data": {
      "text/plain": [
       "+000.00    57\n",
       "+100.00    29\n",
       "Name: RELATIVE_PEP_SCORE, dtype: int64"
      ]
     },
     "execution_count": 35,
     "metadata": {},
     "output_type": "execute_result"
    }
   ],
   "source": [
    "CB['RELATIVE_PEP_SCORE'].value_counts()"
   ]
  },
  {
   "cell_type": "code",
   "execution_count": 36,
   "metadata": {},
   "outputs": [],
   "source": [
    "# 使用AML_CRR 1-1 ~ 1-10 SCORE進行轉換\n",
    "# ALERT_COUNT, LTNC_FLAG\n",
    "CB['RELATIVE_PEP_SCORE'] = np.where(CB['RELATIVE_PEP_SCORE'] == '+100.00', '5', '1').astype(int)\n",
    "\n",
    "risk_list = ['CUST_NEG_SCORE', 'RELATIVE_NEG_SCORE', 'BANNED_SCORE', 'BEAR_STOCK_SCORE', \n",
    "             'STOCK_SCORE', 'SAR_SCORE', 'SPECIFIC_INDUSTRY_SCORE', 'NESTING_SCORE', 'CO_REFGEO_SCORE']\n",
    "for col in risk_list:\n",
    "    CB[col] =CB[col].map({'100.0': '5', '0.0': '1'}).astype(int)\n",
    "\n",
    "\n",
    "CB['ACTIVE_RISK'] = CB[['RELATIVE_PEP_SCORE', 'CUST_NEG_SCORE', 'RELATIVE_NEG_SCORE', 'BANNED_SCORE', 'BEAR_STOCK_SCORE', 'STOCK_SCORE', 'SAR_SCORE', 'SPECIFIC_INDUSTRY_SCORE', 'NESTING_SCORE', 'CO_REFGEO_SCORE']].sum(axis='columns')"
   ]
  },
  {
   "cell_type": "code",
   "execution_count": null,
   "metadata": {},
   "outputs": [],
   "source": []
  },
  {
   "cell_type": "code",
   "execution_count": null,
   "metadata": {},
   "outputs": [],
   "source": []
  },
  {
   "cell_type": "markdown",
   "metadata": {},
   "source": [
    "##### I. 名單"
   ]
  },
  {
   "cell_type": "code",
   "execution_count": null,
   "metadata": {},
   "outputs": [],
   "source": [
    "# EY補充\n",
    "# 下面預先檢視各欄位在通匯業務客戶的分佈，若全部資料皆相同，則該欄位無需進行轉換也無須放入模型"
   ]
  },
  {
   "cell_type": "code",
   "execution_count": 37,
   "metadata": {},
   "outputs": [
    {
     "name": "stdout",
     "output_type": "stream",
     "text": [
      "N    86\n",
      "Name: CUST_PANA, dtype: int64\n",
      "N      63\n",
      "NaN    23\n",
      "Name: CUST_BAHA, dtype: int64\n",
      "N      63\n",
      "NaN    23\n",
      "Name: CUST_PARA, dtype: int64\n"
     ]
    }
   ],
   "source": [
    "print(CB['CUST_PANA'].value_counts(dropna=False))\n",
    "\n",
    "print(CB['CUST_BAHA'].value_counts(dropna=False))\n",
    "\n",
    "print(CB['CUST_PARA'].value_counts(dropna=False))"
   ]
  },
  {
   "cell_type": "code",
   "execution_count": 38,
   "metadata": {},
   "outputs": [
    {
     "name": "stdout",
     "output_type": "stream",
     "text": [
      "N    86\n",
      "Name: PANAMA_MARK, dtype: int64\n",
      "N      63\n",
      "NaN    23\n",
      "Name: BAHAMAS_MARK, dtype: int64\n",
      "N      63\n",
      "NaN    23\n",
      "Name: PARADISE_MARK, dtype: int64\n"
     ]
    }
   ],
   "source": [
    "print(CB['PANAMA_MARK'].value_counts(dropna=False))\n",
    "\n",
    "print(CB['BAHAMAS_MARK'].value_counts(dropna=False))\n",
    "\n",
    "print(CB['PARADISE_MARK'].value_counts(dropna=False))"
   ]
  },
  {
   "cell_type": "code",
   "execution_count": 37,
   "metadata": {},
   "outputs": [],
   "source": [
    "# 名單皆為N"
   ]
  },
  {
   "cell_type": "markdown",
   "metadata": {},
   "source": [
    "#### 3. 資料正規化\n",
    "Normalize data to 0 and 1"
   ]
  },
  {
   "cell_type": "code",
   "execution_count": 40,
   "metadata": {},
   "outputs": [],
   "source": [
    "# EY補充\n",
    "# 資料的正規化(Normalization)是將原始資料的數據按比例縮放於 [0, 1] 區間中，且不改變其原本分佈\n",
    "# 該資料轉換，能排除資料單位的限制，提供我們一個相同的基準來進行後續比較分析\n",
    "\n",
    "min_max_scaler = preprocessing.MinMaxScaler()\n",
    "\n",
    "CB[['REGION_RISK', 'INDUSTRY_RISK', 'PRODUCT_RISK', 'ORGANIZATION_RISK', 'ELSE', 'TRADE', 'ACTIVE_RISK']] = min_max_scaler.fit_transform(CB[['REGION_RISK', 'INDUSTRY_RISK', 'PRODUCT_RISK', 'ORGANIZATION_RISK', 'ELSE', 'TRADE', 'ACTIVE_RISK']])"
   ]
  },
  {
   "cell_type": "code",
   "execution_count": 41,
   "metadata": {},
   "outputs": [],
   "source": [
    "# EY補充\n",
    "# 為強化動態因子對於資料的影響力，將\"動態因子\"維度修改為客戶命中任何一個則該維度即為1\n",
    "# 後續若想與其他維度保持相同的評分標準，僅需移除下面程式碼\n",
    "\n",
    "# 動態因子更動\n",
    "CB['ACTIVE_RISK_Update'] = np.where(CB['ACTIVE_RISK'] > 0, 1, CB['ACTIVE_RISK'])"
   ]
  },
  {
   "cell_type": "code",
   "execution_count": null,
   "metadata": {},
   "outputs": [],
   "source": []
  },
  {
   "cell_type": "code",
   "execution_count": null,
   "metadata": {},
   "outputs": [],
   "source": []
  },
  {
   "cell_type": "markdown",
   "metadata": {},
   "source": [
    "#### 4. Outlier Detection"
   ]
  },
  {
   "cell_type": "markdown",
   "metadata": {},
   "source": [
    "##### 4.1 get 平均值"
   ]
  },
  {
   "cell_type": "code",
   "execution_count": 42,
   "metadata": {},
   "outputs": [],
   "source": [
    "CB_avg = pd.Series([np.mean(CB['REGION_RISK']), np.mean(CB['INDUSTRY_RISK']), np.mean(CB['PRODUCT_RISK']), np.mean(CB['ORGANIZATION_RISK']), \n",
    "                    np.mean(CB['ELSE']), np.mean(CB['TRADE']), np.mean(CB['ACTIVE_RISK']), np.mean(CB['ACTIVE_RISK_Update'])], \n",
    "                    index=['REGION_RISK', 'INDUSTRY_RISK', 'PRODUCT_RISK', 'ORGANIZATION_RISK', \n",
    "                           'ELSE', 'TRADE', 'ACTIVE_RISK', 'ACTIVE_RISK_Update'])"
   ]
  },
  {
   "cell_type": "code",
   "execution_count": 43,
   "metadata": {},
   "outputs": [
    {
     "data": {
      "text/plain": [
       "REGION_RISK           0.151163\n",
       "INDUSTRY_RISK         0.670543\n",
       "PRODUCT_RISK          0.750000\n",
       "ORGANIZATION_RISK     0.356589\n",
       "ELSE                  0.161130\n",
       "TRADE                 0.860465\n",
       "ACTIVE_RISK           0.130814\n",
       "ACTIVE_RISK_Update    0.383721\n",
       "dtype: float64"
      ]
     },
     "execution_count": 43,
     "metadata": {},
     "output_type": "execute_result"
    }
   ],
   "source": [
    "CB_avg"
   ]
  },
  {
   "cell_type": "markdown",
   "metadata": {},
   "source": [
    "##### 4.2 Calculation"
   ]
  },
  {
   "cell_type": "code",
   "execution_count": 44,
   "metadata": {},
   "outputs": [],
   "source": [
    "for i in range(86):\n",
    "    distance = (CB.loc[i, ['REGION_RISK', 'INDUSTRY_RISK', 'PRODUCT_RISK', 'ORGANIZATION_RISK', 'ELSE', 'TRADE', 'ACTIVE_RISK_Update']] - CB_avg[['REGION_RISK', 'INDUSTRY_RISK', 'PRODUCT_RISK', 'ORGANIZATION_RISK', 'ELSE', 'TRADE', 'ACTIVE_RISK_Update']]).sum()\n",
    "    CB.loc[i, 'distance'] = distance"
   ]
  },
  {
   "cell_type": "code",
   "execution_count": 45,
   "metadata": {},
   "outputs": [
    {
     "data": {
      "text/plain": [
       "<matplotlib.axes._subplots.AxesSubplot at 0x7f73c7ae0e48>"
      ]
     },
     "execution_count": 45,
     "metadata": {},
     "output_type": "execute_result"
    },
    {
     "data": {
      "image/png": "[encoded data removed]",
      "text/plain": [
       "<Figure size 432x288 with 1 Axes>"
      ]
     },
     "metadata": {
      "needs_background": "light"
     },
     "output_type": "display_data"
    }
   ],
   "source": [
    "CB.boxplot(column='distance') #Boxplot劃分為參考"
   ]
  },
  {
   "cell_type": "code",
   "execution_count": 46,
   "metadata": {},
   "outputs": [],
   "source": [
    "# EY補充\n",
    "# 門檻標準請參考兆豐銀_CRR_第二階段模型開發報告\n",
    "\n",
    "# 設定門檻\n",
    "\n",
    "IQR = np.percentile(CB['distance'], 75) - np.percentile(CB['distance'], 25)\n",
    "threshold = np.percentile(CB['distance'], 75) + 1.5 * IQR"
   ]
  },
  {
   "cell_type": "code",
   "execution_count": 47,
   "metadata": {},
   "outputs": [],
   "source": [
    "# 計算PHASE_2分類風險\n",
    "CB['PHASE_2'] = 'C'\n",
    "CB.loc[CB['distance'] > (math.floor(np.percentile(CB['distance'], 75) * 100) / 100), 'PHASE_2'] = 'B'\n",
    "CB.loc[CB['distance'] > threshold, 'PHASE_2'] = 'A'"
   ]
  },
  {
   "cell_type": "code",
   "execution_count": 48,
   "metadata": {},
   "outputs": [
    {
     "data": {
      "text/plain": [
       "C    54\n",
       "B    22\n",
       "A    10\n",
       "Name: PHASE_2, dtype: int64"
      ]
     },
     "execution_count": 48,
     "metadata": {},
     "output_type": "execute_result"
    }
   ],
   "source": [
    "CB['PHASE_2'].value_counts(dropna=False)"
   ]
  },
  {
   "cell_type": "markdown",
   "metadata": {},
   "source": [
    "##### 4.3 Output Data"
   ]
  },
  {
   "cell_type": "code",
   "execution_count": 49,
   "metadata": {},
   "outputs": [],
   "source": [
    "test = CB[['PHASE_2', 'distance', 'FINAL_CRR', 'SAR', 'REGION_RISK', 'INDUSTRY_RISK', 'PRODUCT_RISK', 'ORGANIZATION_RISK', 'ELSE', 'TRADE', 'ACTIVE_RISK']]"
   ]
  },
  {
   "cell_type": "code",
   "execution_count": 50,
   "metadata": {},
   "outputs": [
    {
     "data": {
      "text/html": [
       "<div>\n",
       "<style scoped>\n",
       "    .dataframe tbody tr th:only-of-type {\n",
       "        vertical-align: middle;\n",
       "    }\n",
       "\n",
       "    .dataframe tbody tr th {\n",
       "        vertical-align: top;\n",
       "    }\n",
       "\n",
       "    .dataframe thead th {\n",
       "        text-align: right;\n",
       "    }\n",
       "</style>\n",
       "<table border=\"1\" class=\"dataframe\">\n",
       "  <thead>\n",
       "    <tr style=\"text-align: right;\">\n",
       "      <th></th>\n",
       "      <th>PHASE_2</th>\n",
       "      <th>distance</th>\n",
       "      <th>FINAL_CRR</th>\n",
       "      <th>SAR</th>\n",
       "      <th>REGION_RISK</th>\n",
       "      <th>INDUSTRY_RISK</th>\n",
       "      <th>PRODUCT_RISK</th>\n",
       "      <th>ORGANIZATION_RISK</th>\n",
       "      <th>ELSE</th>\n",
       "      <th>TRADE</th>\n",
       "      <th>ACTIVE_RISK</th>\n",
       "    </tr>\n",
       "  </thead>\n",
       "  <tbody>\n",
       "    <tr>\n",
       "      <th>0</th>\n",
       "      <td>C</td>\n",
       "      <td>-1.524086</td>\n",
       "      <td>L</td>\n",
       "      <td>N</td>\n",
       "      <td>0.0</td>\n",
       "      <td>0.666667</td>\n",
       "      <td>0.0</td>\n",
       "      <td>0.0</td>\n",
       "      <td>0.142857</td>\n",
       "      <td>1.0</td>\n",
       "      <td>0.0</td>\n",
       "    </tr>\n",
       "    <tr>\n",
       "      <th>1</th>\n",
       "      <td>C</td>\n",
       "      <td>-1.024086</td>\n",
       "      <td>M</td>\n",
       "      <td>N</td>\n",
       "      <td>0.5</td>\n",
       "      <td>0.666667</td>\n",
       "      <td>0.0</td>\n",
       "      <td>0.0</td>\n",
       "      <td>0.142857</td>\n",
       "      <td>1.0</td>\n",
       "      <td>0.0</td>\n",
       "    </tr>\n",
       "    <tr>\n",
       "      <th>2</th>\n",
       "      <td>C</td>\n",
       "      <td>-1.666944</td>\n",
       "      <td>L</td>\n",
       "      <td>N</td>\n",
       "      <td>0.0</td>\n",
       "      <td>0.666667</td>\n",
       "      <td>0.0</td>\n",
       "      <td>0.0</td>\n",
       "      <td>0.000000</td>\n",
       "      <td>1.0</td>\n",
       "      <td>0.0</td>\n",
       "    </tr>\n",
       "    <tr>\n",
       "      <th>3</th>\n",
       "      <td>C</td>\n",
       "      <td>-0.666944</td>\n",
       "      <td>M</td>\n",
       "      <td>N</td>\n",
       "      <td>0.5</td>\n",
       "      <td>0.666667</td>\n",
       "      <td>0.5</td>\n",
       "      <td>0.0</td>\n",
       "      <td>0.000000</td>\n",
       "      <td>1.0</td>\n",
       "      <td>0.0</td>\n",
       "    </tr>\n",
       "    <tr>\n",
       "      <th>4</th>\n",
       "      <td>C</td>\n",
       "      <td>-0.166944</td>\n",
       "      <td>M</td>\n",
       "      <td>N</td>\n",
       "      <td>1.0</td>\n",
       "      <td>0.666667</td>\n",
       "      <td>0.5</td>\n",
       "      <td>0.0</td>\n",
       "      <td>0.000000</td>\n",
       "      <td>1.0</td>\n",
       "      <td>0.0</td>\n",
       "    </tr>\n",
       "  </tbody>\n",
       "</table>\n",
       "</div>"
      ],
      "text/plain": [
       "  PHASE_2  distance FINAL_CRR SAR  REGION_RISK  INDUSTRY_RISK  PRODUCT_RISK  \\\n",
       "0       C -1.524086         L   N          0.0       0.666667           0.0   \n",
       "1       C -1.024086         M   N          0.5       0.666667           0.0   \n",
       "2       C -1.666944         L   N          0.0       0.666667           0.0   \n",
       "3       C -0.666944         M   N          0.5       0.666667           0.5   \n",
       "4       C -0.166944         M   N          1.0       0.666667           0.5   \n",
       "\n",
       "   ORGANIZATION_RISK      ELSE  TRADE  ACTIVE_RISK  \n",
       "0                0.0  0.142857    1.0          0.0  \n",
       "1                0.0  0.142857    1.0          0.0  \n",
       "2                0.0  0.000000    1.0          0.0  \n",
       "3                0.0  0.000000    1.0          0.0  \n",
       "4                0.0  0.000000    1.0          0.0  "
      ]
     },
     "execution_count": 50,
     "metadata": {},
     "output_type": "execute_result"
    }
   ],
   "source": [
    "test.head()"
   ]
  },
  {
   "cell_type": "code",
   "execution_count": null,
   "metadata": {},
   "outputs": [],
   "source": []
  },
  {
   "cell_type": "code",
   "execution_count": null,
   "metadata": {},
   "outputs": [],
   "source": []
  }
 ],
 "metadata": {
  "kernelspec": {
   "display_name": "Python 3",
   "language": "python",
   "name": "python3"
  },
  "language_info": {
   "codemirror_mode": {
    "name": "ipython",
    "version": 3
   },
   "file_extension": ".py",
   "mimetype": "text/x-python",
   "name": "python",
   "nbconvert_exporter": "python",
   "pygments_lexer": "ipython3",
   "version": "3.8.3"
  },
  "toc": {
   "base_numbering": 1,
   "nav_menu": {},
   "number_sections": false,
   "sideBar": true,
   "skip_h1_title": false,
   "title_cell": "Table of Contents",
   "title_sidebar": "Contents",
   "toc_cell": false,
   "toc_position": {},
   "toc_section_display": true,
   "toc_window_display": true
  }
 },
 "nbformat": 4,
 "nbformat_minor": 4
}
